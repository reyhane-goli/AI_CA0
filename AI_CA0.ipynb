{
 "cells": [
  {
   "cell_type": "markdown",
   "metadata": {},
   "source": [
    "\n",
    "نام پروژه:آشنایی با هوش مصنوعی\n",
    "    \n",
    "هدف از انجام پروژه : پر کردن یک دیتاست بعد از به دست آوردن یک مدل آماری به شیوه پیش بینی می باشد\n",
    "    \n",
    "توضیح پروژه: در این پروژه داده های مربوط به تعدادی از کاربران سایت در فایلی داده شده است. اطلاعات بعضی سلول ها در این فایل داده شده را از دست داده ایم که لازم است آن ها را با میانگین ستون مربوط به آن سلول پر کنیم(البته غیر از ستون هدف)ستون آخر ستون هدف است و در آن اطلاعاتی مربوط به این که کاربر مورد نظر روی آگهی کلیک کرده است یا نه را در بر دارد ولی بعضی از سلول های این ستون خالی است و اطلاعات آن درج نشده است. در این پروژه در ابتدا می خواهیم بدانیم کدام یک از ویژگی ها که در ستون های مختلف این فایل قرار دارد بهتر است به عنوان ورودی مدل آماری ما انتخاب شود که بر اساس آن خانه های خالی ستون هدف را پیش بینی کنیم و با توجه به آن ویژگی حدس بزنیم که کاربر مورد نظر روی آگهی کلیک کرده است یا نه\n"
   ]
  },
  {
   "cell_type": "markdown",
   "metadata": {},
   "source": [
    "در ابتدا لازم است که اطلاعات داده شده در فایل را بخوانیم و در دیتافریمی قرار دهیم که بتوان با آطلاعات درون آن کار کرد\n",
    "\n",
    "سپس با استفاده از تابع زیر می توانیم پنج سطر اول دیتافریم خود را ببینیم"
   ]
  },
  {
   "cell_type": "code",
   "execution_count": 1,
   "metadata": {
    "scrolled": true
   },
   "outputs": [
    {
     "data": {
      "text/html": [
       "<div>\n",
       "<style scoped>\n",
       "    .dataframe tbody tr th:only-of-type {\n",
       "        vertical-align: middle;\n",
       "    }\n",
       "\n",
       "    .dataframe tbody tr th {\n",
       "        vertical-align: top;\n",
       "    }\n",
       "\n",
       "    .dataframe thead th {\n",
       "        text-align: right;\n",
       "    }\n",
       "</style>\n",
       "<table border=\"1\" class=\"dataframe\">\n",
       "  <thead>\n",
       "    <tr style=\"text-align: right;\">\n",
       "      <th></th>\n",
       "      <th>Unnamed: 0</th>\n",
       "      <th>Daily Time Spent on Site</th>\n",
       "      <th>Age</th>\n",
       "      <th>Area Income</th>\n",
       "      <th>Daily Internet Usage</th>\n",
       "      <th>Ad Topic Line</th>\n",
       "      <th>City</th>\n",
       "      <th>Gender</th>\n",
       "      <th>Country</th>\n",
       "      <th>Timestamp</th>\n",
       "      <th>Clicked on Ad</th>\n",
       "    </tr>\n",
       "  </thead>\n",
       "  <tbody>\n",
       "    <tr>\n",
       "      <th>0</th>\n",
       "      <td>0</td>\n",
       "      <td>68.95</td>\n",
       "      <td>35.0</td>\n",
       "      <td>61833.90</td>\n",
       "      <td>256.09</td>\n",
       "      <td>Cloned 5thgeneration orchestration</td>\n",
       "      <td>Wrightburgh</td>\n",
       "      <td>Female</td>\n",
       "      <td>Tunisia</td>\n",
       "      <td>2016-03-27 00:53:11</td>\n",
       "      <td>0.0</td>\n",
       "    </tr>\n",
       "    <tr>\n",
       "      <th>1</th>\n",
       "      <td>1</td>\n",
       "      <td>80.23</td>\n",
       "      <td>31.0</td>\n",
       "      <td>68441.85</td>\n",
       "      <td>NaN</td>\n",
       "      <td>Monitored national standardization</td>\n",
       "      <td>West Jodi</td>\n",
       "      <td>Male</td>\n",
       "      <td>Nauru</td>\n",
       "      <td>2016-04-04 01:39:02</td>\n",
       "      <td>0.0</td>\n",
       "    </tr>\n",
       "    <tr>\n",
       "      <th>2</th>\n",
       "      <td>2</td>\n",
       "      <td>69.47</td>\n",
       "      <td>26.0</td>\n",
       "      <td>59785.94</td>\n",
       "      <td>236.50</td>\n",
       "      <td>Organic bottom-line service-desk</td>\n",
       "      <td>Davidton</td>\n",
       "      <td>Female</td>\n",
       "      <td>San Marino</td>\n",
       "      <td>2016-03-13 20:35:42</td>\n",
       "      <td>0.0</td>\n",
       "    </tr>\n",
       "    <tr>\n",
       "      <th>3</th>\n",
       "      <td>3</td>\n",
       "      <td>74.15</td>\n",
       "      <td>29.0</td>\n",
       "      <td>54806.18</td>\n",
       "      <td>245.89</td>\n",
       "      <td>Triple-buffered reciprocal time-frame</td>\n",
       "      <td>West Terrifurt</td>\n",
       "      <td>Male</td>\n",
       "      <td>Italy</td>\n",
       "      <td>2016-01-10 02:31:19</td>\n",
       "      <td>0.0</td>\n",
       "    </tr>\n",
       "    <tr>\n",
       "      <th>4</th>\n",
       "      <td>4</td>\n",
       "      <td>68.37</td>\n",
       "      <td>35.0</td>\n",
       "      <td>73889.99</td>\n",
       "      <td>225.58</td>\n",
       "      <td>Robust logistical utilization</td>\n",
       "      <td>South Manuel</td>\n",
       "      <td>Female</td>\n",
       "      <td>Iceland</td>\n",
       "      <td>2016-06-03 03:36:18</td>\n",
       "      <td>0.0</td>\n",
       "    </tr>\n",
       "  </tbody>\n",
       "</table>\n",
       "</div>"
      ],
      "text/plain": [
       "   Unnamed: 0  Daily Time Spent on Site   Age  Area Income  \\\n",
       "0           0                     68.95  35.0     61833.90   \n",
       "1           1                     80.23  31.0     68441.85   \n",
       "2           2                     69.47  26.0     59785.94   \n",
       "3           3                     74.15  29.0     54806.18   \n",
       "4           4                     68.37  35.0     73889.99   \n",
       "\n",
       "   Daily Internet Usage                          Ad Topic Line  \\\n",
       "0                256.09     Cloned 5thgeneration orchestration   \n",
       "1                   NaN     Monitored national standardization   \n",
       "2                236.50       Organic bottom-line service-desk   \n",
       "3                245.89  Triple-buffered reciprocal time-frame   \n",
       "4                225.58          Robust logistical utilization   \n",
       "\n",
       "             City  Gender     Country            Timestamp  Clicked on Ad  \n",
       "0     Wrightburgh  Female     Tunisia  2016-03-27 00:53:11            0.0  \n",
       "1       West Jodi    Male       Nauru  2016-04-04 01:39:02            0.0  \n",
       "2        Davidton  Female  San Marino  2016-03-13 20:35:42            0.0  \n",
       "3  West Terrifurt    Male       Italy  2016-01-10 02:31:19            0.0  \n",
       "4    South Manuel  Female     Iceland  2016-06-03 03:36:18            0.0  "
      ]
     },
     "execution_count": 1,
     "metadata": {},
     "output_type": "execute_result"
    }
   ],
   "source": [
    "import pandas as pd  \n",
    "import matplotlib.pyplot as plt\n",
    "import time\n",
    "import scipy.stats as stats\n",
    "import csv \n",
    "data = pd.read_csv('advertising_dataset.csv')\n",
    "data.head()"
   ]
  },
  {
   "cell_type": "markdown",
   "metadata": {},
   "source": [
    "با استفاده از تابع زیر می توان پنج سطر آخر دیتافریم خود را ببینیم\n"
   ]
  },
  {
   "cell_type": "code",
   "execution_count": 2,
   "metadata": {},
   "outputs": [
    {
     "data": {
      "text/html": [
       "<div>\n",
       "<style scoped>\n",
       "    .dataframe tbody tr th:only-of-type {\n",
       "        vertical-align: middle;\n",
       "    }\n",
       "\n",
       "    .dataframe tbody tr th {\n",
       "        vertical-align: top;\n",
       "    }\n",
       "\n",
       "    .dataframe thead th {\n",
       "        text-align: right;\n",
       "    }\n",
       "</style>\n",
       "<table border=\"1\" class=\"dataframe\">\n",
       "  <thead>\n",
       "    <tr style=\"text-align: right;\">\n",
       "      <th></th>\n",
       "      <th>Unnamed: 0</th>\n",
       "      <th>Daily Time Spent on Site</th>\n",
       "      <th>Age</th>\n",
       "      <th>Area Income</th>\n",
       "      <th>Daily Internet Usage</th>\n",
       "      <th>Ad Topic Line</th>\n",
       "      <th>City</th>\n",
       "      <th>Gender</th>\n",
       "      <th>Country</th>\n",
       "      <th>Timestamp</th>\n",
       "      <th>Clicked on Ad</th>\n",
       "    </tr>\n",
       "  </thead>\n",
       "  <tbody>\n",
       "    <tr>\n",
       "      <th>995</th>\n",
       "      <td>995</td>\n",
       "      <td>72.97</td>\n",
       "      <td>30.0</td>\n",
       "      <td>71384.57</td>\n",
       "      <td>208.58</td>\n",
       "      <td>Fundamental modular algorithm</td>\n",
       "      <td>Duffystad</td>\n",
       "      <td>Male</td>\n",
       "      <td>Lebanon</td>\n",
       "      <td>2016-02-11 21:49:00</td>\n",
       "      <td>1.0</td>\n",
       "    </tr>\n",
       "    <tr>\n",
       "      <th>996</th>\n",
       "      <td>996</td>\n",
       "      <td>51.30</td>\n",
       "      <td>45.0</td>\n",
       "      <td>67782.17</td>\n",
       "      <td>134.42</td>\n",
       "      <td>Grass-roots cohesive monitoring</td>\n",
       "      <td>New Darlene</td>\n",
       "      <td>Male</td>\n",
       "      <td>Bosnia and Herzegovina</td>\n",
       "      <td>2016-04-22 02:07:01</td>\n",
       "      <td>1.0</td>\n",
       "    </tr>\n",
       "    <tr>\n",
       "      <th>997</th>\n",
       "      <td>997</td>\n",
       "      <td>51.63</td>\n",
       "      <td>51.0</td>\n",
       "      <td>42415.72</td>\n",
       "      <td>120.37</td>\n",
       "      <td>Expanded intangible solution</td>\n",
       "      <td>South Jessica</td>\n",
       "      <td>Male</td>\n",
       "      <td>Mongolia</td>\n",
       "      <td>2016-02-01 17:24:57</td>\n",
       "      <td>1.0</td>\n",
       "    </tr>\n",
       "    <tr>\n",
       "      <th>998</th>\n",
       "      <td>998</td>\n",
       "      <td>55.55</td>\n",
       "      <td>19.0</td>\n",
       "      <td>41920.79</td>\n",
       "      <td>187.95</td>\n",
       "      <td>Proactive bandwidth-monitored policy</td>\n",
       "      <td>West Steven</td>\n",
       "      <td>Female</td>\n",
       "      <td>Guatemala</td>\n",
       "      <td>2016-03-24 02:35:54</td>\n",
       "      <td>0.0</td>\n",
       "    </tr>\n",
       "    <tr>\n",
       "      <th>999</th>\n",
       "      <td>999</td>\n",
       "      <td>NaN</td>\n",
       "      <td>26.0</td>\n",
       "      <td>29875.80</td>\n",
       "      <td>178.35</td>\n",
       "      <td>Virtual 5thgeneration emulation</td>\n",
       "      <td>Ronniemouth</td>\n",
       "      <td>Female</td>\n",
       "      <td>Brazil</td>\n",
       "      <td>2016-06-03 21:43:21</td>\n",
       "      <td>1.0</td>\n",
       "    </tr>\n",
       "  </tbody>\n",
       "</table>\n",
       "</div>"
      ],
      "text/plain": [
       "     Unnamed: 0  Daily Time Spent on Site   Age  Area Income  \\\n",
       "995         995                     72.97  30.0     71384.57   \n",
       "996         996                     51.30  45.0     67782.17   \n",
       "997         997                     51.63  51.0     42415.72   \n",
       "998         998                     55.55  19.0     41920.79   \n",
       "999         999                       NaN  26.0     29875.80   \n",
       "\n",
       "     Daily Internet Usage                         Ad Topic Line  \\\n",
       "995                208.58         Fundamental modular algorithm   \n",
       "996                134.42       Grass-roots cohesive monitoring   \n",
       "997                120.37          Expanded intangible solution   \n",
       "998                187.95  Proactive bandwidth-monitored policy   \n",
       "999                178.35       Virtual 5thgeneration emulation   \n",
       "\n",
       "              City  Gender                 Country            Timestamp  \\\n",
       "995      Duffystad    Male                 Lebanon  2016-02-11 21:49:00   \n",
       "996    New Darlene    Male  Bosnia and Herzegovina  2016-04-22 02:07:01   \n",
       "997  South Jessica    Male                Mongolia  2016-02-01 17:24:57   \n",
       "998    West Steven  Female               Guatemala  2016-03-24 02:35:54   \n",
       "999    Ronniemouth  Female                  Brazil  2016-06-03 21:43:21   \n",
       "\n",
       "     Clicked on Ad  \n",
       "995            1.0  \n",
       "996            1.0  \n",
       "997            1.0  \n",
       "998            0.0  \n",
       "999            1.0  "
      ]
     },
     "execution_count": 2,
     "metadata": {},
     "output_type": "execute_result"
    }
   ],
   "source": [
    "data.tail() "
   ]
  },
  {
   "cell_type": "markdown",
   "metadata": {},
   "source": [
    "با استفاده از این تابع می توان خلاصه ای از داده های آیتم ها را مشاهده کرد هم چنین می توان میانگین و واریانس و کوچک ترین مقدار و بزرگ ترین مقدار را برای ستون هایی که شامل مقادیر عددی اند مشاهده نمود\n"
   ]
  },
  {
   "cell_type": "code",
   "execution_count": 3,
   "metadata": {},
   "outputs": [
    {
     "data": {
      "text/html": [
       "<div>\n",
       "<style scoped>\n",
       "    .dataframe tbody tr th:only-of-type {\n",
       "        vertical-align: middle;\n",
       "    }\n",
       "\n",
       "    .dataframe tbody tr th {\n",
       "        vertical-align: top;\n",
       "    }\n",
       "\n",
       "    .dataframe thead th {\n",
       "        text-align: right;\n",
       "    }\n",
       "</style>\n",
       "<table border=\"1\" class=\"dataframe\">\n",
       "  <thead>\n",
       "    <tr style=\"text-align: right;\">\n",
       "      <th></th>\n",
       "      <th>Unnamed: 0</th>\n",
       "      <th>Daily Time Spent on Site</th>\n",
       "      <th>Age</th>\n",
       "      <th>Area Income</th>\n",
       "      <th>Daily Internet Usage</th>\n",
       "      <th>Clicked on Ad</th>\n",
       "    </tr>\n",
       "  </thead>\n",
       "  <tbody>\n",
       "    <tr>\n",
       "      <th>count</th>\n",
       "      <td>1000.000000</td>\n",
       "      <td>907.000000</td>\n",
       "      <td>979.000000</td>\n",
       "      <td>1000.000000</td>\n",
       "      <td>913.000000</td>\n",
       "      <td>832.000000</td>\n",
       "    </tr>\n",
       "    <tr>\n",
       "      <th>mean</th>\n",
       "      <td>499.500000</td>\n",
       "      <td>64.794818</td>\n",
       "      <td>36.009193</td>\n",
       "      <td>55000.000080</td>\n",
       "      <td>179.751271</td>\n",
       "      <td>0.496394</td>\n",
       "    </tr>\n",
       "    <tr>\n",
       "      <th>std</th>\n",
       "      <td>288.819436</td>\n",
       "      <td>15.954841</td>\n",
       "      <td>8.783636</td>\n",
       "      <td>13414.634022</td>\n",
       "      <td>43.957934</td>\n",
       "      <td>0.500288</td>\n",
       "    </tr>\n",
       "    <tr>\n",
       "      <th>min</th>\n",
       "      <td>0.000000</td>\n",
       "      <td>32.600000</td>\n",
       "      <td>19.000000</td>\n",
       "      <td>13996.500000</td>\n",
       "      <td>104.780000</td>\n",
       "      <td>0.000000</td>\n",
       "    </tr>\n",
       "    <tr>\n",
       "      <th>25%</th>\n",
       "      <td>249.750000</td>\n",
       "      <td>50.615000</td>\n",
       "      <td>29.000000</td>\n",
       "      <td>47031.802500</td>\n",
       "      <td>138.550000</td>\n",
       "      <td>0.000000</td>\n",
       "    </tr>\n",
       "    <tr>\n",
       "      <th>50%</th>\n",
       "      <td>499.500000</td>\n",
       "      <td>67.940000</td>\n",
       "      <td>35.000000</td>\n",
       "      <td>57012.300000</td>\n",
       "      <td>183.480000</td>\n",
       "      <td>0.000000</td>\n",
       "    </tr>\n",
       "    <tr>\n",
       "      <th>75%</th>\n",
       "      <td>749.250000</td>\n",
       "      <td>78.555000</td>\n",
       "      <td>42.000000</td>\n",
       "      <td>65470.635000</td>\n",
       "      <td>217.850000</td>\n",
       "      <td>1.000000</td>\n",
       "    </tr>\n",
       "    <tr>\n",
       "      <th>max</th>\n",
       "      <td>999.000000</td>\n",
       "      <td>91.430000</td>\n",
       "      <td>61.000000</td>\n",
       "      <td>79484.800000</td>\n",
       "      <td>269.960000</td>\n",
       "      <td>1.000000</td>\n",
       "    </tr>\n",
       "  </tbody>\n",
       "</table>\n",
       "</div>"
      ],
      "text/plain": [
       "        Unnamed: 0  Daily Time Spent on Site         Age   Area Income  \\\n",
       "count  1000.000000                907.000000  979.000000   1000.000000   \n",
       "mean    499.500000                 64.794818   36.009193  55000.000080   \n",
       "std     288.819436                 15.954841    8.783636  13414.634022   \n",
       "min       0.000000                 32.600000   19.000000  13996.500000   \n",
       "25%     249.750000                 50.615000   29.000000  47031.802500   \n",
       "50%     499.500000                 67.940000   35.000000  57012.300000   \n",
       "75%     749.250000                 78.555000   42.000000  65470.635000   \n",
       "max     999.000000                 91.430000   61.000000  79484.800000   \n",
       "\n",
       "       Daily Internet Usage  Clicked on Ad  \n",
       "count            913.000000     832.000000  \n",
       "mean             179.751271       0.496394  \n",
       "std               43.957934       0.500288  \n",
       "min              104.780000       0.000000  \n",
       "25%              138.550000       0.000000  \n",
       "50%              183.480000       0.000000  \n",
       "75%              217.850000       1.000000  \n",
       "max              269.960000       1.000000  "
      ]
     },
     "execution_count": 3,
     "metadata": {},
     "output_type": "execute_result"
    }
   ],
   "source": [
    "data.describe() "
   ]
  },
  {
   "cell_type": "markdown",
   "metadata": {},
   "source": [
    "با استفاده از تابع زیر می توان نوع هرکدام از ستون های داده ای را مشاهده کرد\n",
    "همان طور که از نتایج به دست آمده می توان فهمید بعضی از داده هااز نوع عددی و بعضی دیگر از نوع غیر عددی می باشند . برای پردازش ستون های غیرعددی یکی از راهکار های ممکن استفاده از روش برچسب گزاری می باشد"
   ]
  },
  {
   "cell_type": "code",
   "execution_count": 4,
   "metadata": {},
   "outputs": [
    {
     "name": "stdout",
     "output_type": "stream",
     "text": [
      "<class 'pandas.core.frame.DataFrame'>\n",
      "RangeIndex: 1000 entries, 0 to 999\n",
      "Data columns (total 11 columns):\n",
      " #   Column                    Non-Null Count  Dtype  \n",
      "---  ------                    --------------  -----  \n",
      " 0   Unnamed: 0                1000 non-null   int64  \n",
      " 1   Daily Time Spent on Site  907 non-null    float64\n",
      " 2   Age                       979 non-null    float64\n",
      " 3   Area Income               1000 non-null   float64\n",
      " 4   Daily Internet Usage      913 non-null    float64\n",
      " 5   Ad Topic Line             1000 non-null   object \n",
      " 6   City                      1000 non-null   object \n",
      " 7   Gender                    1000 non-null   object \n",
      " 8   Country                   1000 non-null   object \n",
      " 9   Timestamp                 1000 non-null   object \n",
      " 10  Clicked on Ad             832 non-null    float64\n",
      "dtypes: float64(5), int64(1), object(5)\n",
      "memory usage: 86.1+ KB\n"
     ]
    }
   ],
   "source": [
    "data.info(verbose=None, buf=None, max_cols=None, memory_usage=None, null_counts=None)"
   ]
  },
  {
   "cell_type": "markdown",
   "metadata": {},
   "source": [
    "در این قسمت می خواهیم از روش برچسب گزاری برای داده های ستون جنسیت استفاده کنیم.مقادیر موجود در سلول های این ستون زن و مرد می باشد و حالا می خواهیم مقادیر این ستون را با مقادیر 0 و 1 جایگزین کنیم به صورتی که 0 نشان دهنده زن و 1 نشان دهنده مرد باشد\n",
    "\n",
    "استفاده کردcat.codes برای این کار در ابتدا نوع داده ای ستون جنسیت را به صورت زیر تغییر داده شده است تا بتوان از توابعی مانند  \n",
    "  استفاده کرد replace نیز انجام داد یا از تابعی مانند if conditionالبته می توان این کار را با یک ساختار "
   ]
  },
  {
   "cell_type": "code",
   "execution_count": 5,
   "metadata": {
    "scrolled": true
   },
   "outputs": [
    {
     "name": "stdout",
     "output_type": "stream",
     "text": [
      "<class 'pandas.core.frame.DataFrame'>\n",
      "RangeIndex: 1000 entries, 0 to 999\n",
      "Data columns (total 11 columns):\n",
      " #   Column                    Non-Null Count  Dtype   \n",
      "---  ------                    --------------  -----   \n",
      " 0   Unnamed: 0                1000 non-null   int64   \n",
      " 1   Daily Time Spent on Site  907 non-null    float64 \n",
      " 2   Age                       979 non-null    float64 \n",
      " 3   Area Income               1000 non-null   float64 \n",
      " 4   Daily Internet Usage      913 non-null    float64 \n",
      " 5   Ad Topic Line             1000 non-null   object  \n",
      " 6   City                      1000 non-null   object  \n",
      " 7   Gender                    1000 non-null   category\n",
      " 8   Country                   1000 non-null   object  \n",
      " 9   Timestamp                 1000 non-null   object  \n",
      " 10  Clicked on Ad             832 non-null    float64 \n",
      "dtypes: category(1), float64(5), int64(1), object(4)\n",
      "memory usage: 79.3+ KB\n"
     ]
    }
   ],
   "source": [
    "data[\"Gender\"] = data[\"Gender\"].astype('category')\n",
    "data.info(verbose=None, buf=None, max_cols=None, memory_usage=None, null_counts=None)"
   ]
  },
  {
   "cell_type": "markdown",
   "metadata": {},
   "source": [
    "بعد از تعویض نوع داده ای ستون جنسیت به وسیله تابع زیر آن را کد می کنیم.همان طور که پیش تر گفته شد از روش های دیگری که ذکر شد نیز می توان استفاده نمود.برای مشاهده درستی این کار پنج عنصر اول دیتافریم را چاپ می کنیم و همان طور که پیداست داده های ستون جنسیت به درستی با 0 و 1 جایگزین شده اند "
   ]
  },
  {
   "cell_type": "code",
   "execution_count": 6,
   "metadata": {
    "scrolled": true
   },
   "outputs": [
    {
     "data": {
      "text/html": [
       "<div>\n",
       "<style scoped>\n",
       "    .dataframe tbody tr th:only-of-type {\n",
       "        vertical-align: middle;\n",
       "    }\n",
       "\n",
       "    .dataframe tbody tr th {\n",
       "        vertical-align: top;\n",
       "    }\n",
       "\n",
       "    .dataframe thead th {\n",
       "        text-align: right;\n",
       "    }\n",
       "</style>\n",
       "<table border=\"1\" class=\"dataframe\">\n",
       "  <thead>\n",
       "    <tr style=\"text-align: right;\">\n",
       "      <th></th>\n",
       "      <th>Unnamed: 0</th>\n",
       "      <th>Daily Time Spent on Site</th>\n",
       "      <th>Age</th>\n",
       "      <th>Area Income</th>\n",
       "      <th>Daily Internet Usage</th>\n",
       "      <th>Ad Topic Line</th>\n",
       "      <th>City</th>\n",
       "      <th>Gender</th>\n",
       "      <th>Country</th>\n",
       "      <th>Timestamp</th>\n",
       "      <th>Clicked on Ad</th>\n",
       "    </tr>\n",
       "  </thead>\n",
       "  <tbody>\n",
       "    <tr>\n",
       "      <th>0</th>\n",
       "      <td>0</td>\n",
       "      <td>68.95</td>\n",
       "      <td>35.0</td>\n",
       "      <td>61833.90</td>\n",
       "      <td>256.09</td>\n",
       "      <td>Cloned 5thgeneration orchestration</td>\n",
       "      <td>Wrightburgh</td>\n",
       "      <td>0</td>\n",
       "      <td>Tunisia</td>\n",
       "      <td>2016-03-27 00:53:11</td>\n",
       "      <td>0.0</td>\n",
       "    </tr>\n",
       "    <tr>\n",
       "      <th>1</th>\n",
       "      <td>1</td>\n",
       "      <td>80.23</td>\n",
       "      <td>31.0</td>\n",
       "      <td>68441.85</td>\n",
       "      <td>NaN</td>\n",
       "      <td>Monitored national standardization</td>\n",
       "      <td>West Jodi</td>\n",
       "      <td>1</td>\n",
       "      <td>Nauru</td>\n",
       "      <td>2016-04-04 01:39:02</td>\n",
       "      <td>0.0</td>\n",
       "    </tr>\n",
       "    <tr>\n",
       "      <th>2</th>\n",
       "      <td>2</td>\n",
       "      <td>69.47</td>\n",
       "      <td>26.0</td>\n",
       "      <td>59785.94</td>\n",
       "      <td>236.50</td>\n",
       "      <td>Organic bottom-line service-desk</td>\n",
       "      <td>Davidton</td>\n",
       "      <td>0</td>\n",
       "      <td>San Marino</td>\n",
       "      <td>2016-03-13 20:35:42</td>\n",
       "      <td>0.0</td>\n",
       "    </tr>\n",
       "    <tr>\n",
       "      <th>3</th>\n",
       "      <td>3</td>\n",
       "      <td>74.15</td>\n",
       "      <td>29.0</td>\n",
       "      <td>54806.18</td>\n",
       "      <td>245.89</td>\n",
       "      <td>Triple-buffered reciprocal time-frame</td>\n",
       "      <td>West Terrifurt</td>\n",
       "      <td>1</td>\n",
       "      <td>Italy</td>\n",
       "      <td>2016-01-10 02:31:19</td>\n",
       "      <td>0.0</td>\n",
       "    </tr>\n",
       "    <tr>\n",
       "      <th>4</th>\n",
       "      <td>4</td>\n",
       "      <td>68.37</td>\n",
       "      <td>35.0</td>\n",
       "      <td>73889.99</td>\n",
       "      <td>225.58</td>\n",
       "      <td>Robust logistical utilization</td>\n",
       "      <td>South Manuel</td>\n",
       "      <td>0</td>\n",
       "      <td>Iceland</td>\n",
       "      <td>2016-06-03 03:36:18</td>\n",
       "      <td>0.0</td>\n",
       "    </tr>\n",
       "  </tbody>\n",
       "</table>\n",
       "</div>"
      ],
      "text/plain": [
       "   Unnamed: 0  Daily Time Spent on Site   Age  Area Income  \\\n",
       "0           0                     68.95  35.0     61833.90   \n",
       "1           1                     80.23  31.0     68441.85   \n",
       "2           2                     69.47  26.0     59785.94   \n",
       "3           3                     74.15  29.0     54806.18   \n",
       "4           4                     68.37  35.0     73889.99   \n",
       "\n",
       "   Daily Internet Usage                          Ad Topic Line  \\\n",
       "0                256.09     Cloned 5thgeneration orchestration   \n",
       "1                   NaN     Monitored national standardization   \n",
       "2                236.50       Organic bottom-line service-desk   \n",
       "3                245.89  Triple-buffered reciprocal time-frame   \n",
       "4                225.58          Robust logistical utilization   \n",
       "\n",
       "             City  Gender     Country            Timestamp  Clicked on Ad  \n",
       "0     Wrightburgh       0     Tunisia  2016-03-27 00:53:11            0.0  \n",
       "1       West Jodi       1       Nauru  2016-04-04 01:39:02            0.0  \n",
       "2        Davidton       0  San Marino  2016-03-13 20:35:42            0.0  \n",
       "3  West Terrifurt       1       Italy  2016-01-10 02:31:19            0.0  \n",
       "4    South Manuel       0     Iceland  2016-06-03 03:36:18            0.0  "
      ]
     },
     "execution_count": 6,
     "metadata": {},
     "output_type": "execute_result"
    }
   ],
   "source": [
    "data[\"Gender\"] = data[\"Gender\"].cat.codes\n",
    "data.head()"
   ]
  },
  {
   "cell_type": "markdown",
   "metadata": {},
   "source": [
    " مشخص شده اند که این مقدار نشان دهنده این است که اطلاعات آن سلول را از دست داده ایم و گم شده است حالا می خواهیم NAN در فایل داده شده به ما تعدادی از سلول های ستون ها ببینیم که هر ستون دارای چند خانه با این مقدار است برای این کار به صورت زیر عمل می کنیم. همان طور که از نتیجه پیداست برای هر آیتم از جدول نشان داده شده است که این ستون  چند مقدار گم شده دارد"
   ]
  },
  {
   "cell_type": "code",
   "execution_count": 7,
   "metadata": {
    "scrolled": true
   },
   "outputs": [
    {
     "data": {
      "text/plain": [
       "Unnamed: 0                    0\n",
       "Daily Time Spent on Site     93\n",
       "Age                          21\n",
       "Area Income                   0\n",
       "Daily Internet Usage         87\n",
       "Ad Topic Line                 0\n",
       "City                          0\n",
       "Gender                        0\n",
       "Country                       0\n",
       "Timestamp                     0\n",
       "Clicked on Ad               168\n",
       "dtype: int64"
      ]
     },
     "execution_count": 7,
     "metadata": {},
     "output_type": "execute_result"
    }
   ],
   "source": [
    "data.isna().sum()"
   ]
  },
  {
   "cell_type": "markdown",
   "metadata": {},
   "source": [
    "برای مشاهده میانگین هر ستون از جدول به صورت زیر عمل می کنیم"
   ]
  },
  {
   "cell_type": "code",
   "execution_count": 8,
   "metadata": {
    "scrolled": true
   },
   "outputs": [
    {
     "data": {
      "text/plain": [
       "Unnamed: 0                    499.500000\n",
       "Daily Time Spent on Site       64.794818\n",
       "Age                            36.009193\n",
       "Area Income                 55000.000080\n",
       "Daily Internet Usage          179.751271\n",
       "Gender                          0.481000\n",
       "Clicked on Ad                   0.496394\n",
       "dtype: float64"
      ]
     },
     "execution_count": 8,
     "metadata": {},
     "output_type": "execute_result"
    }
   ],
   "source": [
    "data.mean()"
   ]
  },
  {
   "cell_type": "markdown",
   "metadata": {},
   "source": [
    "در این قسمت می خواهیم خانه های خالی هر ستون را با مقدار میانگین داده ها در آن ستون جایگزین نماییم.  البته این کار برای همه ی ستون های جدول به غیر از ستون هدف انجام می شود. برای تشخیص خالی بودن سلول و جایگزین کردن آن با میانگین از توابع زیر استفاده می کنیم.در صورتی که آن خانه از جدول خالی بود آن را با میانگین آن ستون از جدول جایگزین می نماییم.برای ارزیابی درستی این کار پنج سطر اول دیتافریم را چاپ می کنیم   "
   ]
  },
  {
   "cell_type": "code",
   "execution_count": 9,
   "metadata": {
    "scrolled": false
   },
   "outputs": [
    {
     "data": {
      "text/html": [
       "<div>\n",
       "<style scoped>\n",
       "    .dataframe tbody tr th:only-of-type {\n",
       "        vertical-align: middle;\n",
       "    }\n",
       "\n",
       "    .dataframe tbody tr th {\n",
       "        vertical-align: top;\n",
       "    }\n",
       "\n",
       "    .dataframe thead th {\n",
       "        text-align: right;\n",
       "    }\n",
       "</style>\n",
       "<table border=\"1\" class=\"dataframe\">\n",
       "  <thead>\n",
       "    <tr style=\"text-align: right;\">\n",
       "      <th></th>\n",
       "      <th>Unnamed: 0</th>\n",
       "      <th>Daily Time Spent on Site</th>\n",
       "      <th>Age</th>\n",
       "      <th>Area Income</th>\n",
       "      <th>Daily Internet Usage</th>\n",
       "      <th>Ad Topic Line</th>\n",
       "      <th>City</th>\n",
       "      <th>Gender</th>\n",
       "      <th>Country</th>\n",
       "      <th>Timestamp</th>\n",
       "      <th>Clicked on Ad</th>\n",
       "    </tr>\n",
       "  </thead>\n",
       "  <tbody>\n",
       "    <tr>\n",
       "      <th>0</th>\n",
       "      <td>0</td>\n",
       "      <td>68.95</td>\n",
       "      <td>35.0</td>\n",
       "      <td>61833.90</td>\n",
       "      <td>256.090000</td>\n",
       "      <td>Cloned 5thgeneration orchestration</td>\n",
       "      <td>Wrightburgh</td>\n",
       "      <td>0</td>\n",
       "      <td>Tunisia</td>\n",
       "      <td>2016-03-27 00:53:11</td>\n",
       "      <td>0.0</td>\n",
       "    </tr>\n",
       "    <tr>\n",
       "      <th>1</th>\n",
       "      <td>1</td>\n",
       "      <td>80.23</td>\n",
       "      <td>31.0</td>\n",
       "      <td>68441.85</td>\n",
       "      <td>179.751271</td>\n",
       "      <td>Monitored national standardization</td>\n",
       "      <td>West Jodi</td>\n",
       "      <td>1</td>\n",
       "      <td>Nauru</td>\n",
       "      <td>2016-04-04 01:39:02</td>\n",
       "      <td>0.0</td>\n",
       "    </tr>\n",
       "    <tr>\n",
       "      <th>2</th>\n",
       "      <td>2</td>\n",
       "      <td>69.47</td>\n",
       "      <td>26.0</td>\n",
       "      <td>59785.94</td>\n",
       "      <td>236.500000</td>\n",
       "      <td>Organic bottom-line service-desk</td>\n",
       "      <td>Davidton</td>\n",
       "      <td>0</td>\n",
       "      <td>San Marino</td>\n",
       "      <td>2016-03-13 20:35:42</td>\n",
       "      <td>0.0</td>\n",
       "    </tr>\n",
       "    <tr>\n",
       "      <th>3</th>\n",
       "      <td>3</td>\n",
       "      <td>74.15</td>\n",
       "      <td>29.0</td>\n",
       "      <td>54806.18</td>\n",
       "      <td>245.890000</td>\n",
       "      <td>Triple-buffered reciprocal time-frame</td>\n",
       "      <td>West Terrifurt</td>\n",
       "      <td>1</td>\n",
       "      <td>Italy</td>\n",
       "      <td>2016-01-10 02:31:19</td>\n",
       "      <td>0.0</td>\n",
       "    </tr>\n",
       "    <tr>\n",
       "      <th>4</th>\n",
       "      <td>4</td>\n",
       "      <td>68.37</td>\n",
       "      <td>35.0</td>\n",
       "      <td>73889.99</td>\n",
       "      <td>225.580000</td>\n",
       "      <td>Robust logistical utilization</td>\n",
       "      <td>South Manuel</td>\n",
       "      <td>0</td>\n",
       "      <td>Iceland</td>\n",
       "      <td>2016-06-03 03:36:18</td>\n",
       "      <td>0.0</td>\n",
       "    </tr>\n",
       "  </tbody>\n",
       "</table>\n",
       "</div>"
      ],
      "text/plain": [
       "   Unnamed: 0  Daily Time Spent on Site   Age  Area Income  \\\n",
       "0           0                     68.95  35.0     61833.90   \n",
       "1           1                     80.23  31.0     68441.85   \n",
       "2           2                     69.47  26.0     59785.94   \n",
       "3           3                     74.15  29.0     54806.18   \n",
       "4           4                     68.37  35.0     73889.99   \n",
       "\n",
       "   Daily Internet Usage                          Ad Topic Line  \\\n",
       "0            256.090000     Cloned 5thgeneration orchestration   \n",
       "1            179.751271     Monitored national standardization   \n",
       "2            236.500000       Organic bottom-line service-desk   \n",
       "3            245.890000  Triple-buffered reciprocal time-frame   \n",
       "4            225.580000          Robust logistical utilization   \n",
       "\n",
       "             City  Gender     Country            Timestamp  Clicked on Ad  \n",
       "0     Wrightburgh       0     Tunisia  2016-03-27 00:53:11            0.0  \n",
       "1       West Jodi       1       Nauru  2016-04-04 01:39:02            0.0  \n",
       "2        Davidton       0  San Marino  2016-03-13 20:35:42            0.0  \n",
       "3  West Terrifurt       1       Italy  2016-01-10 02:31:19            0.0  \n",
       "4    South Manuel       0     Iceland  2016-06-03 03:36:18            0.0  "
      ]
     },
     "execution_count": 9,
     "metadata": {},
     "output_type": "execute_result"
    }
   ],
   "source": [
    "data['Unnamed: 0'].fillna((data['Unnamed: 0'].mean()), inplace=True)\n",
    "data['Daily Time Spent on Site'].fillna((data['Daily Time Spent on Site'].mean()), inplace=True)\n",
    "data['Age'].fillna((data['Age'].mean()), inplace=True)\n",
    "data['Area Income'].fillna((data['Area Income'].mean()), inplace=True)\n",
    "data['Daily Internet Usage'].fillna((data['Daily Internet Usage'].mean()), inplace=True)\n",
    "data.head()"
   ]
  },
  {
   "cell_type": "markdown",
   "metadata": {},
   "source": [
    "برای پر کردن سلول های خالی موجود در یک دیتافریم می توان از راه های مختلفی استفاده کرد. در این پروژه برای جایگزین کردن مقادیر خالی در جدول ها از میانگین هر ستون استفاده شده است. راهکار های دیگری که در این زمینه وجود دارند عبارت اند از جایگزین کردن سلول های خالی با میانه هر ستون یا جایگزین کردن همه ی مقادیر از دست داده شده با مقدار ثابت مشخصی و یا جایگزین کردن آن ها با بیش ترین مقداری که در آن ستون تکرار شده است.یکی از تفاوت هایی که این دو روش آخر ذکر شده با روش اول گفته شده و روش استفاده شده در پروژه دارد در این است که میانگین و میانه و چییز هایی از این قبیل فقط برای داده های عددی کاربرد دارند و اگر خانه های خالی جدول در ستون های غیر عددی نیز موجود باشند در ابتدا باید آن هارا به حالت عددی درآورد و سپس میانگین یا میانه آن هارا جایگزین نمود اما در روشی که بیش ترین داده ی تکرار شده در ستون و یا یک مقدار مشخص جایگزین می شوداین مشکل برای ستون های غیر عددی وجود نخواهد داشت "
   ]
  },
  {
   "cell_type": "markdown",
   "metadata": {},
   "source": [
    "با استفاده از توابع زیر می توان تعداد کاربران زن و مرد را مشخص نمود . همان طور که پیداست 519 نفر از کاربران  زن و 481 نفر از آن ها مرد می باشند "
   ]
  },
  {
   "cell_type": "code",
   "execution_count": 10,
   "metadata": {},
   "outputs": [
    {
     "data": {
      "text/html": [
       "<div>\n",
       "<style scoped>\n",
       "    .dataframe tbody tr th:only-of-type {\n",
       "        vertical-align: middle;\n",
       "    }\n",
       "\n",
       "    .dataframe tbody tr th {\n",
       "        vertical-align: top;\n",
       "    }\n",
       "\n",
       "    .dataframe thead th {\n",
       "        text-align: right;\n",
       "    }\n",
       "</style>\n",
       "<table border=\"1\" class=\"dataframe\">\n",
       "  <thead>\n",
       "    <tr style=\"text-align: right;\">\n",
       "      <th></th>\n",
       "      <th>Unnamed: 0</th>\n",
       "      <th>Daily Time Spent on Site</th>\n",
       "      <th>Age</th>\n",
       "      <th>Area Income</th>\n",
       "      <th>Daily Internet Usage</th>\n",
       "      <th>Ad Topic Line</th>\n",
       "      <th>City</th>\n",
       "      <th>Country</th>\n",
       "      <th>Timestamp</th>\n",
       "      <th>Clicked on Ad</th>\n",
       "    </tr>\n",
       "    <tr>\n",
       "      <th>Gender</th>\n",
       "      <th></th>\n",
       "      <th></th>\n",
       "      <th></th>\n",
       "      <th></th>\n",
       "      <th></th>\n",
       "      <th></th>\n",
       "      <th></th>\n",
       "      <th></th>\n",
       "      <th></th>\n",
       "      <th></th>\n",
       "    </tr>\n",
       "  </thead>\n",
       "  <tbody>\n",
       "    <tr>\n",
       "      <th>0</th>\n",
       "      <td>519</td>\n",
       "      <td>519</td>\n",
       "      <td>519</td>\n",
       "      <td>519</td>\n",
       "      <td>519</td>\n",
       "      <td>519</td>\n",
       "      <td>519</td>\n",
       "      <td>519</td>\n",
       "      <td>519</td>\n",
       "      <td>423</td>\n",
       "    </tr>\n",
       "    <tr>\n",
       "      <th>1</th>\n",
       "      <td>481</td>\n",
       "      <td>481</td>\n",
       "      <td>481</td>\n",
       "      <td>481</td>\n",
       "      <td>481</td>\n",
       "      <td>481</td>\n",
       "      <td>481</td>\n",
       "      <td>481</td>\n",
       "      <td>481</td>\n",
       "      <td>409</td>\n",
       "    </tr>\n",
       "  </tbody>\n",
       "</table>\n",
       "</div>"
      ],
      "text/plain": [
       "        Unnamed: 0  Daily Time Spent on Site  Age  Area Income  \\\n",
       "Gender                                                           \n",
       "0              519                       519  519          519   \n",
       "1              481                       481  481          481   \n",
       "\n",
       "        Daily Internet Usage  Ad Topic Line  City  Country  Timestamp  \\\n",
       "Gender                                                                  \n",
       "0                        519            519   519      519        519   \n",
       "1                        481            481   481      481        481   \n",
       "\n",
       "        Clicked on Ad  \n",
       "Gender                 \n",
       "0                 423  \n",
       "1                 409  "
      ]
     },
     "execution_count": 10,
     "metadata": {},
     "output_type": "execute_result"
    }
   ],
   "source": [
    "data.groupby(['Gender']).count()"
   ]
  },
  {
   "cell_type": "markdown",
   "metadata": {},
   "source": [
    "با استفاده از همان تابع که در مرحله قبل نیز استفاده شد می توان تعداد کسانی که روی آگهی کلیک کرده اند و نکرده اند را تعیین نمود. همان طور که از نتایج پیداست  419 نفر روی آگهی کلیک کرده نکرده اند و 413 نفر روی آن کلیک کرده اند و این به آن معناست که در جمع مقادیر 832 خانه از این ستون پر شده است و باقی خانه ها اطلاعاتشان گم شده است و می خواهیم در این پروژه آن هارا پیش بینی کنیم"
   ]
  },
  {
   "cell_type": "code",
   "execution_count": 11,
   "metadata": {
    "scrolled": false
   },
   "outputs": [
    {
     "data": {
      "text/html": [
       "<div>\n",
       "<style scoped>\n",
       "    .dataframe tbody tr th:only-of-type {\n",
       "        vertical-align: middle;\n",
       "    }\n",
       "\n",
       "    .dataframe tbody tr th {\n",
       "        vertical-align: top;\n",
       "    }\n",
       "\n",
       "    .dataframe thead th {\n",
       "        text-align: right;\n",
       "    }\n",
       "</style>\n",
       "<table border=\"1\" class=\"dataframe\">\n",
       "  <thead>\n",
       "    <tr style=\"text-align: right;\">\n",
       "      <th></th>\n",
       "      <th>Unnamed: 0</th>\n",
       "      <th>Daily Time Spent on Site</th>\n",
       "      <th>Age</th>\n",
       "      <th>Area Income</th>\n",
       "      <th>Daily Internet Usage</th>\n",
       "      <th>Ad Topic Line</th>\n",
       "      <th>City</th>\n",
       "      <th>Gender</th>\n",
       "      <th>Country</th>\n",
       "      <th>Timestamp</th>\n",
       "    </tr>\n",
       "    <tr>\n",
       "      <th>Clicked on Ad</th>\n",
       "      <th></th>\n",
       "      <th></th>\n",
       "      <th></th>\n",
       "      <th></th>\n",
       "      <th></th>\n",
       "      <th></th>\n",
       "      <th></th>\n",
       "      <th></th>\n",
       "      <th></th>\n",
       "      <th></th>\n",
       "    </tr>\n",
       "  </thead>\n",
       "  <tbody>\n",
       "    <tr>\n",
       "      <th>0.0</th>\n",
       "      <td>419</td>\n",
       "      <td>419</td>\n",
       "      <td>419</td>\n",
       "      <td>419</td>\n",
       "      <td>419</td>\n",
       "      <td>419</td>\n",
       "      <td>419</td>\n",
       "      <td>419</td>\n",
       "      <td>419</td>\n",
       "      <td>419</td>\n",
       "    </tr>\n",
       "    <tr>\n",
       "      <th>1.0</th>\n",
       "      <td>413</td>\n",
       "      <td>413</td>\n",
       "      <td>413</td>\n",
       "      <td>413</td>\n",
       "      <td>413</td>\n",
       "      <td>413</td>\n",
       "      <td>413</td>\n",
       "      <td>413</td>\n",
       "      <td>413</td>\n",
       "      <td>413</td>\n",
       "    </tr>\n",
       "  </tbody>\n",
       "</table>\n",
       "</div>"
      ],
      "text/plain": [
       "               Unnamed: 0  Daily Time Spent on Site  Age  Area Income  \\\n",
       "Clicked on Ad                                                           \n",
       "0.0                   419                       419  419          419   \n",
       "1.0                   413                       413  413          413   \n",
       "\n",
       "               Daily Internet Usage  Ad Topic Line  City  Gender  Country  \\\n",
       "Clicked on Ad                                                               \n",
       "0.0                             419            419   419     419      419   \n",
       "1.0                             413            413   413     413      413   \n",
       "\n",
       "               Timestamp  \n",
       "Clicked on Ad             \n",
       "0.0                  419  \n",
       "1.0                  413  "
      ]
     },
     "execution_count": 11,
     "metadata": {},
     "output_type": "execute_result"
    }
   ],
   "source": [
    "data.groupby(['Clicked on Ad']).count()"
   ]
  },
  {
   "cell_type": "markdown",
   "metadata": {},
   "source": [
    "در این مرحله می خواهیم تعداد کاربرانی را که سنشان از 21 بیش تر است و جنسیت آن ها زن است را پیدا کنیم.در نتیجه باید برای ستون های سن و جنسیت شرط قرار دهیم و تمام کاربرانی را که این دو شرط برای آن ها برقرار است را بشماریم که به این منظور از تابع زیر استفاده می کنیم "
   ]
  },
  {
   "cell_type": "code",
   "execution_count": 12,
   "metadata": {
    "scrolled": true
   },
   "outputs": [
    {
     "data": {
      "text/plain": [
       "Unnamed: 0                  514\n",
       "Daily Time Spent on Site    514\n",
       "Age                         514\n",
       "Area Income                 514\n",
       "Daily Internet Usage        514\n",
       "Ad Topic Line               514\n",
       "City                        514\n",
       "Gender                      514\n",
       "Country                     514\n",
       "Timestamp                   514\n",
       "Clicked on Ad               418\n",
       "dtype: int64"
      ]
     },
     "execution_count": 12,
     "metadata": {},
     "output_type": "execute_result"
    }
   ],
   "source": [
    "data[(data.Age > 21) & (data.Gender == 0)].count()"
   ]
  },
  {
   "cell_type": "markdown",
   "metadata": {},
   "source": [
    "میانگین سن کاربرانی را که روی آگهی کلیک کرده اند یا نکرده اند را بیابیم vectorization در اینجا می خواهیم به وسیله \n",
    "\n",
    "هم چنین می خواهیم مدت زمانی که برای محاسبه این کار لازم است را به میلی ثانیه محاسبه کنیم\n",
    "برای این کار باید ستون هدف را با توجه به مقادیری که می پذیرد که در اینجا 0 و 1 است دسته بندی کنیم"
   ]
  },
  {
   "cell_type": "code",
   "execution_count": 13,
   "metadata": {},
   "outputs": [
    {
     "data": {
      "text/html": [
       "<div>\n",
       "<style scoped>\n",
       "    .dataframe tbody tr th:only-of-type {\n",
       "        vertical-align: middle;\n",
       "    }\n",
       "\n",
       "    .dataframe tbody tr th {\n",
       "        vertical-align: top;\n",
       "    }\n",
       "\n",
       "    .dataframe thead th {\n",
       "        text-align: right;\n",
       "    }\n",
       "</style>\n",
       "<table border=\"1\" class=\"dataframe\">\n",
       "  <thead>\n",
       "    <tr style=\"text-align: right;\">\n",
       "      <th></th>\n",
       "      <th>Unnamed: 0</th>\n",
       "      <th>Daily Time Spent on Site</th>\n",
       "      <th>Age</th>\n",
       "      <th>Area Income</th>\n",
       "      <th>Daily Internet Usage</th>\n",
       "      <th>Gender</th>\n",
       "    </tr>\n",
       "    <tr>\n",
       "      <th>Clicked on Ad</th>\n",
       "      <th></th>\n",
       "      <th></th>\n",
       "      <th></th>\n",
       "      <th></th>\n",
       "      <th></th>\n",
       "      <th></th>\n",
       "    </tr>\n",
       "  </thead>\n",
       "  <tbody>\n",
       "    <tr>\n",
       "      <th>0.0</th>\n",
       "      <td>489.472554</td>\n",
       "      <td>75.644958</td>\n",
       "      <td>31.723326</td>\n",
       "      <td>61390.286802</td>\n",
       "      <td>211.848555</td>\n",
       "      <td>0.505967</td>\n",
       "    </tr>\n",
       "    <tr>\n",
       "      <th>1.0</th>\n",
       "      <td>504.515738</td>\n",
       "      <td>54.283823</td>\n",
       "      <td>40.295600</td>\n",
       "      <td>48311.036247</td>\n",
       "      <td>148.108473</td>\n",
       "      <td>0.476998</td>\n",
       "    </tr>\n",
       "  </tbody>\n",
       "</table>\n",
       "</div>"
      ],
      "text/plain": [
       "               Unnamed: 0  Daily Time Spent on Site        Age   Area Income  \\\n",
       "Clicked on Ad                                                                  \n",
       "0.0            489.472554                 75.644958  31.723326  61390.286802   \n",
       "1.0            504.515738                 54.283823  40.295600  48311.036247   \n",
       "\n",
       "               Daily Internet Usage    Gender  \n",
       "Clicked on Ad                                  \n",
       "0.0                      211.848555  0.505967  \n",
       "1.0                      148.108473  0.476998  "
      ]
     },
     "execution_count": 13,
     "metadata": {},
     "output_type": "execute_result"
    }
   ],
   "source": [
    "start_t1=time.time()\n",
    "data.groupby(['Clicked on Ad']).mean()"
   ]
  },
  {
   "cell_type": "markdown",
   "metadata": {},
   "source": [
    "همان طور که از نتیجه پیداست زمانی که برای پیدا کردن میانگین سن کاربرانی که روی آگهی کلیک کرده اند و یا نکرده اند به وسیله ی این روش مقدار ناچیزی است "
   ]
  },
  {
   "cell_type": "code",
   "execution_count": 14,
   "metadata": {},
   "outputs": [
    {
     "name": "stdout",
     "output_type": "stream",
     "text": [
      "vectorization time is : 122.57647514343262 ms\n"
     ]
    }
   ],
   "source": [
    "finish_t1=time.time()\n",
    "print(\"vectorization time is :\",(finish_t1-start_t1)*1000,\"ms\")"
   ]
  },
  {
   "cell_type": "markdown",
   "metadata": {},
   "source": [
    "به همان منظور ولی این دفعه به وسیله ی حلقه می خواهیم میانگین سن را برای کاربران محاسبه کنیم در نتیجه لازم است که هر سلول از ستون هدف را بررسی کرده و دو شمارنده داشته باشیم. در جاهایی که مقدار سلول برابر 0 باشد به شمارنده اول  مقدار سن همان کاربر و جاهایی که 1 باشد به شمارنده دوم مقدار سن آن کاربر را اضافه می کنیم تا در آخر در شمارنده ها مجموع سن کاربرانی که روی آگهی کلیک نکرده اند و کاربرانی که روی آگهی کلیک کرده اند را داشته باشیم . پس از آن کافیست این شمارنده ها را که نشان دهنده مجموع سن های کاربران در دوحالت کلیک کرده و نکرده می باشند را به تعداد کاربرانی که کلیک کرده اند و کاربرانی که کلیک نکرده اند تقسیم کنیم تا بتوانیم میانگین را برای هریک از دو حالت گفته شده به دست آوریم. تعداد کاربرانی که روی آگهی کلیک کرده اند و کاربرانی که روی آگهی کلیک نکرده اند را در مراحل بالاتر به دست آوردیم و از نتایج آن ها در این مرحله استفاده شده است. همان طور که می بینیم نتایج به دست آمده که همان میانگین سنی می باشند با نتایج روش قبلی همخوانی دارد که این نشان دهنده درستی عملکرد این ثسمت می باشد\n",
    "هم چنین در این جا هم مانند مرحله قبل زمانی را که لازم است این کار را انجام بدهیم محاسبه کرده ایم تا بتوانیم این دو روش استفاده شده برای به دست آوردن میانگین را با هم از نظر به صرفه بودن زمانی مقایسه کنیم. همان طور که پیداست زمان لازم به این منظور در برابر زمانی که روش پیشین داشت عدد بزرگی است و تقریبا 8 برابر روش پیش می باشد . در نتیجه می توان نتیجه گرفت که استفاده از روش پیشین در بررسی داده ها بسیار به صرفه تر می باشد"
   ]
  },
  {
   "cell_type": "code",
   "execution_count": 15,
   "metadata": {
    "scrolled": true
   },
   "outputs": [
    {
     "name": "stdout",
     "output_type": "stream",
     "text": [
      "mean1 is: 31.723325881701896   mean2 is: 40.295599848637366\n",
      "vectorization time is : 154.42228317260742 ms\n"
     ]
    }
   ],
   "source": [
    "sum1=0\n",
    "sum2=0\n",
    "start_t1=time.time()\n",
    "for index, row in data.iterrows():\n",
    "    if(row['Clicked on Ad']==0.0):\n",
    "        sum1=sum1+row['Age']\n",
    "    if(row['Clicked on Ad']==1.0):\n",
    "        sum2=sum2+row['Age']\n",
    "mean1=sum1/419\n",
    "mean2=sum2/413\n",
    "finish_t1=time.time()\n",
    "print(\"mean1 is:\",mean1,\" \",\"mean2 is:\",mean2)\n",
    "print(\"vectorization time is :\",(finish_t1-start_t1)*1000,\"ms\")"
   ]
  },
  {
   "cell_type": "markdown",
   "metadata": {},
   "source": [
    "در اینجا شکل توزیع هر ستون عددی از داده ها را با کمک تابع زیر میبینیم که برای هر نمودار محور افقی نشان دهنده مقادیری است که آن آیتم می پذیرد و محور عمودی نشان دهنده تعدادی از کاربران است که در آن بازه مشخص وجود دارند"
   ]
  },
  {
   "cell_type": "code",
   "execution_count": 16,
   "metadata": {},
   "outputs": [
    {
     "data": {
      "text/plain": [
       "array([[<AxesSubplot:title={'center':'Daily Time Spent on Site'}>]],\n",
       "      dtype=object)"
      ]
     },
     "execution_count": 16,
     "metadata": {},
     "output_type": "execute_result"
    },
    {
     "data": {
      "image/png": "[encoded data removed]",
      "text/plain": [
       "<Figure size 432x288 with 1 Axes>"
      ]
     },
     "metadata": {
      "needs_background": "light"
     },
     "output_type": "display_data"
    }
   ],
   "source": [
    "data.hist(column='Daily Time Spent on Site')"
   ]
  },
  {
   "cell_type": "code",
   "execution_count": 17,
   "metadata": {},
   "outputs": [
    {
     "data": {
      "text/plain": [
       "array([[<AxesSubplot:title={'center':'Age'}>]], dtype=object)"
      ]
     },
     "execution_count": 17,
     "metadata": {},
     "output_type": "execute_result"
    },
    {
     "data": {
      "image/png": "[encoded data removed]",
      "text/plain": [
       "<Figure size 432x288 with 1 Axes>"
      ]
     },
     "metadata": {
      "needs_background": "light"
     },
     "output_type": "display_data"
    }
   ],
   "source": [
    "data.hist(column='Age')"
   ]
  },
  {
   "cell_type": "code",
   "execution_count": 18,
   "metadata": {},
   "outputs": [
    {
     "data": {
      "text/plain": [
       "array([[<AxesSubplot:title={'center':'Area Income'}>]], dtype=object)"
      ]
     },
     "execution_count": 18,
     "metadata": {},
     "output_type": "execute_result"
    },
    {
     "data": {
      "image/png": "[encoded data removed]",
      "text/plain": [
       "<Figure size 432x288 with 1 Axes>"
      ]
     },
     "metadata": {
      "needs_background": "light"
     },
     "output_type": "display_data"
    }
   ],
   "source": [
    "data.hist(column='Area Income')"
   ]
  },
  {
   "cell_type": "code",
   "execution_count": 19,
   "metadata": {},
   "outputs": [
    {
     "data": {
      "text/plain": [
       "array([[<AxesSubplot:title={'center':'Daily Internet Usage'}>]],\n",
       "      dtype=object)"
      ]
     },
     "execution_count": 19,
     "metadata": {},
     "output_type": "execute_result"
    },
    {
     "data": {
      "image/png": "[encoded data removed]",
      "text/plain": [
       "<Figure size 432x288 with 1 Axes>"
      ]
     },
     "metadata": {
      "needs_background": "light"
     },
     "output_type": "display_data"
    }
   ],
   "source": [
    "data.hist(column='Daily Internet Usage')"
   ]
  },
  {
   "cell_type": "code",
   "execution_count": 20,
   "metadata": {
    "scrolled": true
   },
   "outputs": [],
   "source": [
    "#plt.hist(data['Ad Topic Line'])\n",
    "#plt.title('Ad Topic Line')\n",
    "#data.hist(column='Ad Topic Line')"
   ]
  },
  {
   "cell_type": "code",
   "execution_count": 21,
   "metadata": {},
   "outputs": [],
   "source": [
    "#plt.hist(data['City'])\n",
    "#plt.title('City')\n",
    "#data.hist(column='City')"
   ]
  },
  {
   "cell_type": "code",
   "execution_count": 22,
   "metadata": {},
   "outputs": [
    {
     "data": {
      "text/plain": [
       "array([[<AxesSubplot:title={'center':'Gender'}>]], dtype=object)"
      ]
     },
     "execution_count": 22,
     "metadata": {},
     "output_type": "execute_result"
    },
    {
     "data": {
      "image/png": "[encoded data removed]",
      "text/plain": [
       "<Figure size 432x288 with 1 Axes>"
      ]
     },
     "metadata": {
      "needs_background": "light"
     },
     "output_type": "display_data"
    }
   ],
   "source": [
    "data.hist(column='Gender')"
   ]
  },
  {
   "cell_type": "code",
   "execution_count": 23,
   "metadata": {},
   "outputs": [],
   "source": [
    "#plt.hist(data['Country'])\n",
    "#plt.title('Country')\n",
    "#data.hist(column='Country')"
   ]
  },
  {
   "cell_type": "code",
   "execution_count": 24,
   "metadata": {},
   "outputs": [],
   "source": [
    "#plt.hist(data['Timestamp'])\n",
    "#plt.title('Timestamp')\n",
    "#data.hist(column='Timestamp')"
   ]
  },
  {
   "cell_type": "code",
   "execution_count": 25,
   "metadata": {
    "scrolled": true
   },
   "outputs": [
    {
     "data": {
      "text/plain": [
       "array([[<AxesSubplot:title={'center':'Clicked on Ad'}>]], dtype=object)"
      ]
     },
     "execution_count": 25,
     "metadata": {},
     "output_type": "execute_result"
    },
    {
     "data": {
      "image/png": "[encoded data removed]",
      "text/plain": [
       "<Figure size 432x288 with 1 Axes>"
      ]
     },
     "metadata": {
      "needs_background": "light"
     },
     "output_type": "display_data"
    }
   ],
   "source": [
    "data.hist(column='Clicked on Ad')"
   ]
  },
  {
   "cell_type": "markdown",
   "metadata": {},
   "source": [
    "یکی از راه های بهبود داده ها برای مدل های یادگیری ماشین ، نرمال سازی داده ها می باشد. برای نرمال سازی داده ها می توان از توابعی که در پایتون به این منظور وجود دارد استفاده کرد ولی در اینجا نرمال سازی داده ها به وسیله کم کردن میانگین و تقسیم بر انحراف معیار انجام شده است. برای محاسبه میانگین و انحراف معیار هر ستون از توابع مربوط به آنان استفاده شده است. در 4 بخش بعدی این کار برای ستون هایی از فایل که دارای مقدار عددی اند به غیر از ستون جنسیت و ستون هدف به صورت جداگانه انجام شده است. البته برای این کار می شود از یک حلقه نیز روی ستون ها با آیتم های مختلف نیز استفاده شود"
   ]
  },
  {
   "cell_type": "code",
   "execution_count": 26,
   "metadata": {
    "scrolled": true
   },
   "outputs": [
    {
     "data": {
      "text/html": [
       "<div>\n",
       "<style scoped>\n",
       "    .dataframe tbody tr th:only-of-type {\n",
       "        vertical-align: middle;\n",
       "    }\n",
       "\n",
       "    .dataframe tbody tr th {\n",
       "        vertical-align: top;\n",
       "    }\n",
       "\n",
       "    .dataframe thead th {\n",
       "        text-align: right;\n",
       "    }\n",
       "</style>\n",
       "<table border=\"1\" class=\"dataframe\">\n",
       "  <thead>\n",
       "    <tr style=\"text-align: right;\">\n",
       "      <th></th>\n",
       "      <th>Unnamed: 0</th>\n",
       "      <th>Daily Time Spent on Site</th>\n",
       "      <th>Age</th>\n",
       "      <th>Area Income</th>\n",
       "      <th>Daily Internet Usage</th>\n",
       "      <th>Ad Topic Line</th>\n",
       "      <th>City</th>\n",
       "      <th>Gender</th>\n",
       "      <th>Country</th>\n",
       "      <th>Timestamp</th>\n",
       "      <th>Clicked on Ad</th>\n",
       "    </tr>\n",
       "  </thead>\n",
       "  <tbody>\n",
       "    <tr>\n",
       "      <th>0</th>\n",
       "      <td>0</td>\n",
       "      <td>0.273474</td>\n",
       "      <td>35.0</td>\n",
       "      <td>61833.90</td>\n",
       "      <td>256.090000</td>\n",
       "      <td>Cloned 5thgeneration orchestration</td>\n",
       "      <td>Wrightburgh</td>\n",
       "      <td>0</td>\n",
       "      <td>Tunisia</td>\n",
       "      <td>2016-03-27 00:53:11</td>\n",
       "      <td>0.0</td>\n",
       "    </tr>\n",
       "    <tr>\n",
       "      <th>1</th>\n",
       "      <td>1</td>\n",
       "      <td>1.015870</td>\n",
       "      <td>31.0</td>\n",
       "      <td>68441.85</td>\n",
       "      <td>179.751271</td>\n",
       "      <td>Monitored national standardization</td>\n",
       "      <td>West Jodi</td>\n",
       "      <td>1</td>\n",
       "      <td>Nauru</td>\n",
       "      <td>2016-04-04 01:39:02</td>\n",
       "      <td>0.0</td>\n",
       "    </tr>\n",
       "    <tr>\n",
       "      <th>2</th>\n",
       "      <td>2</td>\n",
       "      <td>0.307698</td>\n",
       "      <td>26.0</td>\n",
       "      <td>59785.94</td>\n",
       "      <td>236.500000</td>\n",
       "      <td>Organic bottom-line service-desk</td>\n",
       "      <td>Davidton</td>\n",
       "      <td>0</td>\n",
       "      <td>San Marino</td>\n",
       "      <td>2016-03-13 20:35:42</td>\n",
       "      <td>0.0</td>\n",
       "    </tr>\n",
       "    <tr>\n",
       "      <th>3</th>\n",
       "      <td>3</td>\n",
       "      <td>0.615713</td>\n",
       "      <td>29.0</td>\n",
       "      <td>54806.18</td>\n",
       "      <td>245.890000</td>\n",
       "      <td>Triple-buffered reciprocal time-frame</td>\n",
       "      <td>West Terrifurt</td>\n",
       "      <td>1</td>\n",
       "      <td>Italy</td>\n",
       "      <td>2016-01-10 02:31:19</td>\n",
       "      <td>0.0</td>\n",
       "    </tr>\n",
       "    <tr>\n",
       "      <th>4</th>\n",
       "      <td>4</td>\n",
       "      <td>0.235301</td>\n",
       "      <td>35.0</td>\n",
       "      <td>73889.99</td>\n",
       "      <td>225.580000</td>\n",
       "      <td>Robust logistical utilization</td>\n",
       "      <td>South Manuel</td>\n",
       "      <td>0</td>\n",
       "      <td>Iceland</td>\n",
       "      <td>2016-06-03 03:36:18</td>\n",
       "      <td>0.0</td>\n",
       "    </tr>\n",
       "  </tbody>\n",
       "</table>\n",
       "</div>"
      ],
      "text/plain": [
       "   Unnamed: 0  Daily Time Spent on Site   Age  Area Income  \\\n",
       "0           0                  0.273474  35.0     61833.90   \n",
       "1           1                  1.015870  31.0     68441.85   \n",
       "2           2                  0.307698  26.0     59785.94   \n",
       "3           3                  0.615713  29.0     54806.18   \n",
       "4           4                  0.235301  35.0     73889.99   \n",
       "\n",
       "   Daily Internet Usage                          Ad Topic Line  \\\n",
       "0            256.090000     Cloned 5thgeneration orchestration   \n",
       "1            179.751271     Monitored national standardization   \n",
       "2            236.500000       Organic bottom-line service-desk   \n",
       "3            245.890000  Triple-buffered reciprocal time-frame   \n",
       "4            225.580000          Robust logistical utilization   \n",
       "\n",
       "             City  Gender     Country            Timestamp  Clicked on Ad  \n",
       "0     Wrightburgh       0     Tunisia  2016-03-27 00:53:11            0.0  \n",
       "1       West Jodi       1       Nauru  2016-04-04 01:39:02            0.0  \n",
       "2        Davidton       0  San Marino  2016-03-13 20:35:42            0.0  \n",
       "3  West Terrifurt       1       Italy  2016-01-10 02:31:19            0.0  \n",
       "4    South Manuel       0     Iceland  2016-06-03 03:36:18            0.0  "
      ]
     },
     "execution_count": 26,
     "metadata": {},
     "output_type": "execute_result"
    }
   ],
   "source": [
    "data['Daily Time Spent on Site'] = (data['Daily Time Spent on Site'] - data['Daily Time Spent on Site'].mean())/data['Daily Time Spent on Site'].std()\n",
    "data.head()"
   ]
  },
  {
   "cell_type": "code",
   "execution_count": 27,
   "metadata": {},
   "outputs": [
    {
     "data": {
      "text/html": [
       "<div>\n",
       "<style scoped>\n",
       "    .dataframe tbody tr th:only-of-type {\n",
       "        vertical-align: middle;\n",
       "    }\n",
       "\n",
       "    .dataframe tbody tr th {\n",
       "        vertical-align: top;\n",
       "    }\n",
       "\n",
       "    .dataframe thead th {\n",
       "        text-align: right;\n",
       "    }\n",
       "</style>\n",
       "<table border=\"1\" class=\"dataframe\">\n",
       "  <thead>\n",
       "    <tr style=\"text-align: right;\">\n",
       "      <th></th>\n",
       "      <th>Unnamed: 0</th>\n",
       "      <th>Daily Time Spent on Site</th>\n",
       "      <th>Age</th>\n",
       "      <th>Area Income</th>\n",
       "      <th>Daily Internet Usage</th>\n",
       "      <th>Ad Topic Line</th>\n",
       "      <th>City</th>\n",
       "      <th>Gender</th>\n",
       "      <th>Country</th>\n",
       "      <th>Timestamp</th>\n",
       "      <th>Clicked on Ad</th>\n",
       "    </tr>\n",
       "  </thead>\n",
       "  <tbody>\n",
       "    <tr>\n",
       "      <th>0</th>\n",
       "      <td>0</td>\n",
       "      <td>0.273474</td>\n",
       "      <td>-0.116122</td>\n",
       "      <td>61833.90</td>\n",
       "      <td>256.090000</td>\n",
       "      <td>Cloned 5thgeneration orchestration</td>\n",
       "      <td>Wrightburgh</td>\n",
       "      <td>0</td>\n",
       "      <td>Tunisia</td>\n",
       "      <td>2016-03-27 00:53:11</td>\n",
       "      <td>0.0</td>\n",
       "    </tr>\n",
       "    <tr>\n",
       "      <th>1</th>\n",
       "      <td>1</td>\n",
       "      <td>1.015870</td>\n",
       "      <td>-0.576377</td>\n",
       "      <td>68441.85</td>\n",
       "      <td>179.751271</td>\n",
       "      <td>Monitored national standardization</td>\n",
       "      <td>West Jodi</td>\n",
       "      <td>1</td>\n",
       "      <td>Nauru</td>\n",
       "      <td>2016-04-04 01:39:02</td>\n",
       "      <td>0.0</td>\n",
       "    </tr>\n",
       "    <tr>\n",
       "      <th>2</th>\n",
       "      <td>2</td>\n",
       "      <td>0.307698</td>\n",
       "      <td>-1.151696</td>\n",
       "      <td>59785.94</td>\n",
       "      <td>236.500000</td>\n",
       "      <td>Organic bottom-line service-desk</td>\n",
       "      <td>Davidton</td>\n",
       "      <td>0</td>\n",
       "      <td>San Marino</td>\n",
       "      <td>2016-03-13 20:35:42</td>\n",
       "      <td>0.0</td>\n",
       "    </tr>\n",
       "    <tr>\n",
       "      <th>3</th>\n",
       "      <td>3</td>\n",
       "      <td>0.615713</td>\n",
       "      <td>-0.806505</td>\n",
       "      <td>54806.18</td>\n",
       "      <td>245.890000</td>\n",
       "      <td>Triple-buffered reciprocal time-frame</td>\n",
       "      <td>West Terrifurt</td>\n",
       "      <td>1</td>\n",
       "      <td>Italy</td>\n",
       "      <td>2016-01-10 02:31:19</td>\n",
       "      <td>0.0</td>\n",
       "    </tr>\n",
       "    <tr>\n",
       "      <th>4</th>\n",
       "      <td>4</td>\n",
       "      <td>0.235301</td>\n",
       "      <td>-0.116122</td>\n",
       "      <td>73889.99</td>\n",
       "      <td>225.580000</td>\n",
       "      <td>Robust logistical utilization</td>\n",
       "      <td>South Manuel</td>\n",
       "      <td>0</td>\n",
       "      <td>Iceland</td>\n",
       "      <td>2016-06-03 03:36:18</td>\n",
       "      <td>0.0</td>\n",
       "    </tr>\n",
       "  </tbody>\n",
       "</table>\n",
       "</div>"
      ],
      "text/plain": [
       "   Unnamed: 0  Daily Time Spent on Site       Age  Area Income  \\\n",
       "0           0                  0.273474 -0.116122     61833.90   \n",
       "1           1                  1.015870 -0.576377     68441.85   \n",
       "2           2                  0.307698 -1.151696     59785.94   \n",
       "3           3                  0.615713 -0.806505     54806.18   \n",
       "4           4                  0.235301 -0.116122     73889.99   \n",
       "\n",
       "   Daily Internet Usage                          Ad Topic Line  \\\n",
       "0            256.090000     Cloned 5thgeneration orchestration   \n",
       "1            179.751271     Monitored national standardization   \n",
       "2            236.500000       Organic bottom-line service-desk   \n",
       "3            245.890000  Triple-buffered reciprocal time-frame   \n",
       "4            225.580000          Robust logistical utilization   \n",
       "\n",
       "             City  Gender     Country            Timestamp  Clicked on Ad  \n",
       "0     Wrightburgh       0     Tunisia  2016-03-27 00:53:11            0.0  \n",
       "1       West Jodi       1       Nauru  2016-04-04 01:39:02            0.0  \n",
       "2        Davidton       0  San Marino  2016-03-13 20:35:42            0.0  \n",
       "3  West Terrifurt       1       Italy  2016-01-10 02:31:19            0.0  \n",
       "4    South Manuel       0     Iceland  2016-06-03 03:36:18            0.0  "
      ]
     },
     "execution_count": 27,
     "metadata": {},
     "output_type": "execute_result"
    }
   ],
   "source": [
    "data['Age'] = (data['Age'] - data['Age'].mean())/data['Age'].std()\n",
    "data.head()"
   ]
  },
  {
   "cell_type": "code",
   "execution_count": 28,
   "metadata": {},
   "outputs": [
    {
     "data": {
      "text/html": [
       "<div>\n",
       "<style scoped>\n",
       "    .dataframe tbody tr th:only-of-type {\n",
       "        vertical-align: middle;\n",
       "    }\n",
       "\n",
       "    .dataframe tbody tr th {\n",
       "        vertical-align: top;\n",
       "    }\n",
       "\n",
       "    .dataframe thead th {\n",
       "        text-align: right;\n",
       "    }\n",
       "</style>\n",
       "<table border=\"1\" class=\"dataframe\">\n",
       "  <thead>\n",
       "    <tr style=\"text-align: right;\">\n",
       "      <th></th>\n",
       "      <th>Unnamed: 0</th>\n",
       "      <th>Daily Time Spent on Site</th>\n",
       "      <th>Age</th>\n",
       "      <th>Area Income</th>\n",
       "      <th>Daily Internet Usage</th>\n",
       "      <th>Ad Topic Line</th>\n",
       "      <th>City</th>\n",
       "      <th>Gender</th>\n",
       "      <th>Country</th>\n",
       "      <th>Timestamp</th>\n",
       "      <th>Clicked on Ad</th>\n",
       "    </tr>\n",
       "  </thead>\n",
       "  <tbody>\n",
       "    <tr>\n",
       "      <th>0</th>\n",
       "      <td>0</td>\n",
       "      <td>0.273474</td>\n",
       "      <td>-0.116122</td>\n",
       "      <td>0.509436</td>\n",
       "      <td>256.090000</td>\n",
       "      <td>Cloned 5thgeneration orchestration</td>\n",
       "      <td>Wrightburgh</td>\n",
       "      <td>0</td>\n",
       "      <td>Tunisia</td>\n",
       "      <td>2016-03-27 00:53:11</td>\n",
       "      <td>0.0</td>\n",
       "    </tr>\n",
       "    <tr>\n",
       "      <th>1</th>\n",
       "      <td>1</td>\n",
       "      <td>1.015870</td>\n",
       "      <td>-0.576377</td>\n",
       "      <td>1.002029</td>\n",
       "      <td>179.751271</td>\n",
       "      <td>Monitored national standardization</td>\n",
       "      <td>West Jodi</td>\n",
       "      <td>1</td>\n",
       "      <td>Nauru</td>\n",
       "      <td>2016-04-04 01:39:02</td>\n",
       "      <td>0.0</td>\n",
       "    </tr>\n",
       "    <tr>\n",
       "      <th>2</th>\n",
       "      <td>2</td>\n",
       "      <td>0.307698</td>\n",
       "      <td>-1.151696</td>\n",
       "      <td>0.356770</td>\n",
       "      <td>236.500000</td>\n",
       "      <td>Organic bottom-line service-desk</td>\n",
       "      <td>Davidton</td>\n",
       "      <td>0</td>\n",
       "      <td>San Marino</td>\n",
       "      <td>2016-03-13 20:35:42</td>\n",
       "      <td>0.0</td>\n",
       "    </tr>\n",
       "    <tr>\n",
       "      <th>3</th>\n",
       "      <td>3</td>\n",
       "      <td>0.615713</td>\n",
       "      <td>-0.806505</td>\n",
       "      <td>-0.014448</td>\n",
       "      <td>245.890000</td>\n",
       "      <td>Triple-buffered reciprocal time-frame</td>\n",
       "      <td>West Terrifurt</td>\n",
       "      <td>1</td>\n",
       "      <td>Italy</td>\n",
       "      <td>2016-01-10 02:31:19</td>\n",
       "      <td>0.0</td>\n",
       "    </tr>\n",
       "    <tr>\n",
       "      <th>4</th>\n",
       "      <td>4</td>\n",
       "      <td>0.235301</td>\n",
       "      <td>-0.116122</td>\n",
       "      <td>1.408163</td>\n",
       "      <td>225.580000</td>\n",
       "      <td>Robust logistical utilization</td>\n",
       "      <td>South Manuel</td>\n",
       "      <td>0</td>\n",
       "      <td>Iceland</td>\n",
       "      <td>2016-06-03 03:36:18</td>\n",
       "      <td>0.0</td>\n",
       "    </tr>\n",
       "  </tbody>\n",
       "</table>\n",
       "</div>"
      ],
      "text/plain": [
       "   Unnamed: 0  Daily Time Spent on Site       Age  Area Income  \\\n",
       "0           0                  0.273474 -0.116122     0.509436   \n",
       "1           1                  1.015870 -0.576377     1.002029   \n",
       "2           2                  0.307698 -1.151696     0.356770   \n",
       "3           3                  0.615713 -0.806505    -0.014448   \n",
       "4           4                  0.235301 -0.116122     1.408163   \n",
       "\n",
       "   Daily Internet Usage                          Ad Topic Line  \\\n",
       "0            256.090000     Cloned 5thgeneration orchestration   \n",
       "1            179.751271     Monitored national standardization   \n",
       "2            236.500000       Organic bottom-line service-desk   \n",
       "3            245.890000  Triple-buffered reciprocal time-frame   \n",
       "4            225.580000          Robust logistical utilization   \n",
       "\n",
       "             City  Gender     Country            Timestamp  Clicked on Ad  \n",
       "0     Wrightburgh       0     Tunisia  2016-03-27 00:53:11            0.0  \n",
       "1       West Jodi       1       Nauru  2016-04-04 01:39:02            0.0  \n",
       "2        Davidton       0  San Marino  2016-03-13 20:35:42            0.0  \n",
       "3  West Terrifurt       1       Italy  2016-01-10 02:31:19            0.0  \n",
       "4    South Manuel       0     Iceland  2016-06-03 03:36:18            0.0  "
      ]
     },
     "execution_count": 28,
     "metadata": {},
     "output_type": "execute_result"
    }
   ],
   "source": [
    "data['Area Income'] = (data['Area Income'] - data['Area Income'].mean())/data['Area Income'].std()\n",
    "data.head()"
   ]
  },
  {
   "cell_type": "code",
   "execution_count": 29,
   "metadata": {
    "scrolled": true
   },
   "outputs": [
    {
     "data": {
      "text/html": [
       "<div>\n",
       "<style scoped>\n",
       "    .dataframe tbody tr th:only-of-type {\n",
       "        vertical-align: middle;\n",
       "    }\n",
       "\n",
       "    .dataframe tbody tr th {\n",
       "        vertical-align: top;\n",
       "    }\n",
       "\n",
       "    .dataframe thead th {\n",
       "        text-align: right;\n",
       "    }\n",
       "</style>\n",
       "<table border=\"1\" class=\"dataframe\">\n",
       "  <thead>\n",
       "    <tr style=\"text-align: right;\">\n",
       "      <th></th>\n",
       "      <th>Unnamed: 0</th>\n",
       "      <th>Daily Time Spent on Site</th>\n",
       "      <th>Age</th>\n",
       "      <th>Area Income</th>\n",
       "      <th>Daily Internet Usage</th>\n",
       "      <th>Ad Topic Line</th>\n",
       "      <th>City</th>\n",
       "      <th>Gender</th>\n",
       "      <th>Country</th>\n",
       "      <th>Timestamp</th>\n",
       "      <th>Clicked on Ad</th>\n",
       "    </tr>\n",
       "  </thead>\n",
       "  <tbody>\n",
       "    <tr>\n",
       "      <th>0</th>\n",
       "      <td>0</td>\n",
       "      <td>0.273474</td>\n",
       "      <td>-0.116122</td>\n",
       "      <td>0.509436</td>\n",
       "      <td>1.817578</td>\n",
       "      <td>Cloned 5thgeneration orchestration</td>\n",
       "      <td>Wrightburgh</td>\n",
       "      <td>0</td>\n",
       "      <td>Tunisia</td>\n",
       "      <td>2016-03-27 00:53:11</td>\n",
       "      <td>0.0</td>\n",
       "    </tr>\n",
       "    <tr>\n",
       "      <th>1</th>\n",
       "      <td>1</td>\n",
       "      <td>1.015870</td>\n",
       "      <td>-0.576377</td>\n",
       "      <td>1.002029</td>\n",
       "      <td>0.000000</td>\n",
       "      <td>Monitored national standardization</td>\n",
       "      <td>West Jodi</td>\n",
       "      <td>1</td>\n",
       "      <td>Nauru</td>\n",
       "      <td>2016-04-04 01:39:02</td>\n",
       "      <td>0.0</td>\n",
       "    </tr>\n",
       "    <tr>\n",
       "      <th>2</th>\n",
       "      <td>2</td>\n",
       "      <td>0.307698</td>\n",
       "      <td>-1.151696</td>\n",
       "      <td>0.356770</td>\n",
       "      <td>1.351152</td>\n",
       "      <td>Organic bottom-line service-desk</td>\n",
       "      <td>Davidton</td>\n",
       "      <td>0</td>\n",
       "      <td>San Marino</td>\n",
       "      <td>2016-03-13 20:35:42</td>\n",
       "      <td>0.0</td>\n",
       "    </tr>\n",
       "    <tr>\n",
       "      <th>3</th>\n",
       "      <td>3</td>\n",
       "      <td>0.615713</td>\n",
       "      <td>-0.806505</td>\n",
       "      <td>-0.014448</td>\n",
       "      <td>1.574722</td>\n",
       "      <td>Triple-buffered reciprocal time-frame</td>\n",
       "      <td>West Terrifurt</td>\n",
       "      <td>1</td>\n",
       "      <td>Italy</td>\n",
       "      <td>2016-01-10 02:31:19</td>\n",
       "      <td>0.0</td>\n",
       "    </tr>\n",
       "    <tr>\n",
       "      <th>4</th>\n",
       "      <td>4</td>\n",
       "      <td>0.235301</td>\n",
       "      <td>-0.116122</td>\n",
       "      <td>1.408163</td>\n",
       "      <td>1.091154</td>\n",
       "      <td>Robust logistical utilization</td>\n",
       "      <td>South Manuel</td>\n",
       "      <td>0</td>\n",
       "      <td>Iceland</td>\n",
       "      <td>2016-06-03 03:36:18</td>\n",
       "      <td>0.0</td>\n",
       "    </tr>\n",
       "  </tbody>\n",
       "</table>\n",
       "</div>"
      ],
      "text/plain": [
       "   Unnamed: 0  Daily Time Spent on Site       Age  Area Income  \\\n",
       "0           0                  0.273474 -0.116122     0.509436   \n",
       "1           1                  1.015870 -0.576377     1.002029   \n",
       "2           2                  0.307698 -1.151696     0.356770   \n",
       "3           3                  0.615713 -0.806505    -0.014448   \n",
       "4           4                  0.235301 -0.116122     1.408163   \n",
       "\n",
       "   Daily Internet Usage                          Ad Topic Line  \\\n",
       "0              1.817578     Cloned 5thgeneration orchestration   \n",
       "1              0.000000     Monitored national standardization   \n",
       "2              1.351152       Organic bottom-line service-desk   \n",
       "3              1.574722  Triple-buffered reciprocal time-frame   \n",
       "4              1.091154          Robust logistical utilization   \n",
       "\n",
       "             City  Gender     Country            Timestamp  Clicked on Ad  \n",
       "0     Wrightburgh       0     Tunisia  2016-03-27 00:53:11            0.0  \n",
       "1       West Jodi       1       Nauru  2016-04-04 01:39:02            0.0  \n",
       "2        Davidton       0  San Marino  2016-03-13 20:35:42            0.0  \n",
       "3  West Terrifurt       1       Italy  2016-01-10 02:31:19            0.0  \n",
       "4    South Manuel       0     Iceland  2016-06-03 03:36:18            0.0  "
      ]
     },
     "execution_count": 29,
     "metadata": {},
     "output_type": "execute_result"
    }
   ],
   "source": [
    "data['Daily Internet Usage'] = (data['Daily Internet Usage'] - data['Daily Internet Usage'].mean())/data['Daily Internet Usage'].std()\n",
    "data.head()"
   ]
  },
  {
   "cell_type": "markdown",
   "metadata": {},
   "source": [
    "برای هر یک از حالت هایی که کاربر روی آگهی کلیک کرده است یا نکرده است میانگین هر یک از ویژگی های عددی محاسبه شده است"
   ]
  },
  {
   "cell_type": "code",
   "execution_count": 30,
   "metadata": {},
   "outputs": [
    {
     "data": {
      "text/html": [
       "<div>\n",
       "<style scoped>\n",
       "    .dataframe tbody tr th:only-of-type {\n",
       "        vertical-align: middle;\n",
       "    }\n",
       "\n",
       "    .dataframe tbody tr th {\n",
       "        vertical-align: top;\n",
       "    }\n",
       "\n",
       "    .dataframe thead th {\n",
       "        text-align: right;\n",
       "    }\n",
       "</style>\n",
       "<table border=\"1\" class=\"dataframe\">\n",
       "  <thead>\n",
       "    <tr style=\"text-align: right;\">\n",
       "      <th></th>\n",
       "      <th>Unnamed: 0</th>\n",
       "      <th>Daily Time Spent on Site</th>\n",
       "      <th>Age</th>\n",
       "      <th>Area Income</th>\n",
       "      <th>Daily Internet Usage</th>\n",
       "      <th>Gender</th>\n",
       "    </tr>\n",
       "    <tr>\n",
       "      <th>Clicked on Ad</th>\n",
       "      <th></th>\n",
       "      <th></th>\n",
       "      <th></th>\n",
       "      <th></th>\n",
       "      <th></th>\n",
       "      <th></th>\n",
       "    </tr>\n",
       "  </thead>\n",
       "  <tbody>\n",
       "    <tr>\n",
       "      <th>0.0</th>\n",
       "      <td>489.472554</td>\n",
       "      <td>0.714104</td>\n",
       "      <td>-0.493148</td>\n",
       "      <td>0.476367</td>\n",
       "      <td>0.764216</td>\n",
       "      <td>0.505967</td>\n",
       "    </tr>\n",
       "    <tr>\n",
       "      <th>1.0</th>\n",
       "      <td>504.515738</td>\n",
       "      <td>-0.691783</td>\n",
       "      <td>0.493211</td>\n",
       "      <td>-0.498632</td>\n",
       "      <td>-0.753395</td>\n",
       "      <td>0.476998</td>\n",
       "    </tr>\n",
       "  </tbody>\n",
       "</table>\n",
       "</div>"
      ],
      "text/plain": [
       "               Unnamed: 0  Daily Time Spent on Site       Age  Area Income  \\\n",
       "Clicked on Ad                                                                \n",
       "0.0            489.472554                  0.714104 -0.493148     0.476367   \n",
       "1.0            504.515738                 -0.691783  0.493211    -0.498632   \n",
       "\n",
       "               Daily Internet Usage    Gender  \n",
       "Clicked on Ad                                  \n",
       "0.0                        0.764216  0.505967  \n",
       "1.0                       -0.753395  0.476998  "
      ]
     },
     "execution_count": 30,
     "metadata": {},
     "output_type": "execute_result"
    }
   ],
   "source": [
    "data.groupby(['Clicked on Ad']).mean()"
   ]
  },
  {
   "cell_type": "markdown",
   "metadata": {},
   "source": [
    "برای هر یک از حالت هایی که کاربر روی آگهی کلیک کرده است یا نکرده است انحراف معیار هر یک از ویژگی های عددی محاسبه شده است"
   ]
  },
  {
   "cell_type": "code",
   "execution_count": 31,
   "metadata": {},
   "outputs": [
    {
     "data": {
      "text/html": [
       "<div>\n",
       "<style scoped>\n",
       "    .dataframe tbody tr th:only-of-type {\n",
       "        vertical-align: middle;\n",
       "    }\n",
       "\n",
       "    .dataframe tbody tr th {\n",
       "        vertical-align: top;\n",
       "    }\n",
       "\n",
       "    .dataframe thead th {\n",
       "        text-align: right;\n",
       "    }\n",
       "</style>\n",
       "<table border=\"1\" class=\"dataframe\">\n",
       "  <thead>\n",
       "    <tr style=\"text-align: right;\">\n",
       "      <th></th>\n",
       "      <th>Unnamed: 0</th>\n",
       "      <th>Daily Time Spent on Site</th>\n",
       "      <th>Age</th>\n",
       "      <th>Area Income</th>\n",
       "      <th>Daily Internet Usage</th>\n",
       "      <th>Gender</th>\n",
       "    </tr>\n",
       "    <tr>\n",
       "      <th>Clicked on Ad</th>\n",
       "      <th></th>\n",
       "      <th></th>\n",
       "      <th></th>\n",
       "      <th></th>\n",
       "      <th></th>\n",
       "      <th></th>\n",
       "    </tr>\n",
       "  </thead>\n",
       "  <tbody>\n",
       "    <tr>\n",
       "      <th>0.0</th>\n",
       "      <td>281.453594</td>\n",
       "      <td>0.531369</td>\n",
       "      <td>0.706315</td>\n",
       "      <td>0.670476</td>\n",
       "      <td>0.592058</td>\n",
       "      <td>0.500562</td>\n",
       "    </tr>\n",
       "    <tr>\n",
       "      <th>1.0</th>\n",
       "      <td>298.942388</td>\n",
       "      <td>0.836161</td>\n",
       "      <td>1.019268</td>\n",
       "      <td>1.046199</td>\n",
       "      <td>0.723959</td>\n",
       "      <td>0.500076</td>\n",
       "    </tr>\n",
       "  </tbody>\n",
       "</table>\n",
       "</div>"
      ],
      "text/plain": [
       "               Unnamed: 0  Daily Time Spent on Site       Age  Area Income  \\\n",
       "Clicked on Ad                                                                \n",
       "0.0            281.453594                  0.531369  0.706315     0.670476   \n",
       "1.0            298.942388                  0.836161  1.019268     1.046199   \n",
       "\n",
       "               Daily Internet Usage    Gender  \n",
       "Clicked on Ad                                  \n",
       "0.0                        0.592058  0.500562  \n",
       "1.0                        0.723959  0.500076  "
      ]
     },
     "execution_count": 31,
     "metadata": {},
     "output_type": "execute_result"
    }
   ],
   "source": [
    "data.groupby(['Clicked on Ad']).std()"
   ]
  },
  {
   "cell_type": "markdown",
   "metadata": {},
   "source": [
    "در این مرحله می خواهیم تابع چگالی احتمال توزیع نرمال را برای تمامی ویژگی های عددی رسم کنیم و طبق صورت پروژه باید هر دو نمودار مربوط به کلیک و عدم کلیک ، برای هر ویژگی در یک نمودار رسم شوند که بتوان آن ها را باهم مقایسه کرد و موقعیت زمانی آن هارا نسبت به هم بسنجیم تا در نهایت بتوانیم ویژگی ای که به عنوان ورودی به مدل آماری ما داده می شود تا بتوانیم خانه های خالی ستون هدف را پر کنیم را انتخاب کنیم. به این منظور در ابتدا اطلاعات مربوط به همه ی کاربرانی را که روی آگهی کلیک کرده اند را در یک دیتاست و اطلاعات مربوط به کاربرانی که روی آگهی کلیک نکرده اند را هم در یک دیتاست دیگر میریزیم. حالا برای هر ویژگی ای که می خواهیم نمودار آن را رسم کنیم از دیتافریم های جدیدی که ساخته ایم استفاده می کنیم . برای رسم تابع چگالی احتمال توزیع نرمال از تابع زیر استفاده می کنیم و با استفاده از میانگین و انحراف معیار آن ستون موردنظر نمودار را رسم می کنیم "
   ]
  },
  {
   "cell_type": "code",
   "execution_count": 32,
   "metadata": {},
   "outputs": [
    {
     "data": {
      "image/png": "[encoded data removed]",
      "text/plain": [
       "<Figure size 432x288 with 1 Axes>"
      ]
     },
     "metadata": {
      "needs_background": "light"
     },
     "output_type": "display_data"
    }
   ],
   "source": [
    "df_0=data[data['Clicked on Ad']==0.0]\n",
    "df_1=data[data['Clicked on Ad']==1.0]\n",
    "x0=df_0['Daily Time Spent on Site']\n",
    "x1=df_1['Daily Time Spent on Site']\n",
    "plt.plot(x0, stats.norm.pdf(x0, x0.mean(), x0.std()),label = \"not clicked\")\n",
    "plt.xlabel('Normalized Daily Time Spent on Site')\n",
    "plt.ylabel('Pdf')\n",
    "plt.plot(x1, stats.norm.pdf(x1, x1.mean(), x1.std()),label = \"clicked\")\n",
    "plt.title('Daily Time Spent on Site')\n",
    "plt.legend()\n",
    "plt.show()"
   ]
  },
  {
   "cell_type": "code",
   "execution_count": 33,
   "metadata": {},
   "outputs": [
    {
     "data": {
      "image/png": "[encoded data removed]",
      "text/plain": [
       "<Figure size 432x288 with 1 Axes>"
      ]
     },
     "metadata": {
      "needs_background": "light"
     },
     "output_type": "display_data"
    }
   ],
   "source": [
    "df_0=data[data['Clicked on Ad']==0.0]\n",
    "df_1=data[data['Clicked on Ad']==1.0]\n",
    "x0=df_0['Age']\n",
    "x1=df_1['Age']\n",
    "plt.plot(x0, stats.norm.pdf(x0, x0.mean(), x0.std()),label = \"not clicked\")\n",
    "plt.xlabel('Normalized Age')\n",
    "plt.ylabel('Pdf')\n",
    "plt.plot(x1, stats.norm.pdf(x1, x1.mean(), x1.std()),label = \"clicked\")\n",
    "plt.title('Age')\n",
    "plt.legend()\n",
    "plt.show()\n"
   ]
  },
  {
   "cell_type": "code",
   "execution_count": 34,
   "metadata": {
    "scrolled": true
   },
   "outputs": [
    {
     "data": {
      "image/png": "[encoded data removed]",
      "text/plain": [
       "<Figure size 432x288 with 1 Axes>"
      ]
     },
     "metadata": {
      "needs_background": "light"
     },
     "output_type": "display_data"
    }
   ],
   "source": [
    "df_0=data[data['Clicked on Ad']==0.0]\n",
    "df_1=data[data['Clicked on Ad']==1.0]\n",
    "x0=df_0['Area Income']\n",
    "x1=df_1['Area Income']\n",
    "plt.plot(x0, stats.norm.pdf(x0, x0.mean(), x0.std()),label = \"not clicked\")\n",
    "plt.xlabel('Normalized Area Income')\n",
    "plt.ylabel('Pdf')\n",
    "plt.plot(x1, stats.norm.pdf(x1, x1.mean(), x1.std()),label = \"clicked\")\n",
    "plt.title('Area Income')\n",
    "plt.legend()\n",
    "plt.show()"
   ]
  },
  {
   "cell_type": "code",
   "execution_count": 35,
   "metadata": {
    "scrolled": true
   },
   "outputs": [
    {
     "data": {
      "image/png": "[encoded data removed]",
      "text/plain": [
       "<Figure size 432x288 with 1 Axes>"
      ]
     },
     "metadata": {
      "needs_background": "light"
     },
     "output_type": "display_data"
    }
   ],
   "source": [
    "df_0=data[data['Clicked on Ad']==0.0]\n",
    "df_1=data[data['Clicked on Ad']==1.0]\n",
    "x0=df_0['Daily Internet Usage']\n",
    "x1=df_1['Daily Internet Usage']\n",
    "plt.plot(x0, stats.norm.pdf(x0, x0.mean(), x0.std()),label = \"not clicked\")\n",
    "plt.xlabel('Daily Internet Usage')\n",
    "plt.ylabel('Pdf')\n",
    "plt.plot(x1, stats.norm.pdf(x1, x1.mean(), x1.std()),label = \"clicked\")\n",
    "plt.title('Daily Internet Usage')\n",
    "plt.legend()\n",
    "plt.show()"
   ]
  },
  {
   "cell_type": "markdown",
   "metadata": {},
   "source": [
    "حال باید از بین این چهار ویژگی یک ویژگی را انتخاب کنیم که بر اساس میانگین و واریانس آن  ویژگی مقادیر خالی در ستون هدف را پیش بینی کنیم. که در این پروژه ویژگی انتخاب شده \n",
    "\n",
    "می باشد که میانگین و انحراف معیار آن برای هر دو حالت کلیک و عدم کلیک محاسبه شده استDaily Internet Usage طبق نمودار های به دست آمده "
   ]
  },
  {
   "cell_type": "markdown",
   "metadata": {},
   "source": [
    "برای بیان چرایی انتخاب این ویژگی به عنوان ورودی مدل آماری می توان گفت که همان طور که از نمودار تابع چگالی احتمال برای هر دو حالت کلیک و عدم کلیک می توان دید ، این دو نمودار اشتراک کم تری نسبت به هم دارند (نسبت به نمودار ویژگی های دیگر)و هم چنین قله های این دو نمودار که در آن جا تراکم داده ها بسیار زیاد است از هم فاصله زیادی دارند پس این موضوع میزان خطا را در پیش بینی کردن کاهش می دهد. در این پیش بینی قطعا خطا وجود خواهد داشت چرا که دو نمودار باهم تلاقی و اشتراک دارند و اگر بازه ی مصرف اینترنت روزانه برای کاربری در بازه ی اشتراکی بین این دو نمودار قرار بگیرد احتمال این وجود دارد که ما در پیش بینی کلیک یا عدم کلیک دچار مشکل و خطا شویم اما به دلیل این که نسبت به بقیه ویژگی ها دو نمودار اشتراک کم تری دارند این ویژگی به عنوان ورودی مدل انتخاب شده است\n"
   ]
  },
  {
   "cell_type": "code",
   "execution_count": 36,
   "metadata": {
    "scrolled": false
   },
   "outputs": [
    {
     "name": "stdout",
     "output_type": "stream",
     "text": [
      "mean for unclicked is: 0.7642163719611866 std for unclicked is: 0.592057888773502\n",
      "mean for clicked is: -0.7533953136510781 std for clicked is: 0.7239588576012945\n"
     ]
    }
   ],
   "source": [
    "print(\"mean for unclicked is:\",x0.mean(),\"std for unclicked is:\",x0.std())\n",
    "print(\"mean for clicked is:\",x1.mean(),\"std for clicked is:\",x1.std())"
   ]
  },
  {
   "cell_type": "markdown",
   "metadata": {},
   "source": [
    "\n",
    "حالا برای پیش بینی کردن سلول های خالی ستون هدف می بایست نقطه تلاقی این دو نمودار را پیدا نمود که این کار را می توان به وسیله ی توابع ریاضی موجود در کتاب خانه های پایتون با استفاده از مساوی قرار دادن ضابطه دو نمودار که همان تابع گوسی است (با در نظر ئاشتن این موضوع که هم میانگین را داریم و هم انحراف معیار)انجام داد. اما از آن جایی که استفاده از کتاب خانه هایی غیر از کتاب خانه هایی که در صورت پروژه آمده است غیر مجاز است محل تلاقی این دو نمودار به صورت چشمی برابر 0 در نظر گرفته شده است\n",
    "\n",
    "حالا طبق نمودار اگر مقدار نرمالایز شده ی ستون مصرف اینترنت روزانه برای کاربری از 0 بیش تر باشد و در صورتی که ستون هدف آن خالی باشد می توان اینگونه پیش بینی نمود که کاربر روی آگهی کلیک نکرده است و اگر مقدار نرمالایز شده ی ستون مصرف اینترنت روزانه برای کاربری از 0 کم تر باشد و ستون هدف آن خالی باشد می توان این گونه پیش نمود که  روی آگهی کلیک نکرده است که برای این کار از ساختار دستور شرطی روی دیتافریم استفاده شده است و هم چنین ستونی به نام پیش بینی تعریف شده است که با مقادیر کلیک یا عدم کلیک پر خواهد شد(برای سطر هایی که ستون هرف آن ها خالی می باشد)"
   ]
  },
  {
   "cell_type": "code",
   "execution_count": 37,
   "metadata": {
    "scrolled": true
   },
   "outputs": [],
   "source": [
    "data.loc[(data['Daily Internet Usage']>=0.0)&(data['Clicked on Ad'].isnull()==True),'predict'] = 'not clicked' \n",
    "data.loc[(data['Daily Internet Usage']<0.0)&(data['Clicked on Ad'].isnull()==True),'predict'] = 'clicked' \n",
    "#data.head(35)"
   ]
  },
  {
   "cell_type": "markdown",
   "metadata": {},
   "source": [
    "در این مرحله از دیتافریم از آن جایی که فقط به ستون های پیش بینی و اندیس نیازمندیم همه ی ستون های دیگر را حذف می کنیم و سطر هایی که مربوط به کاربرانی است که از قبل مشخص بوده اند که روی آگهی کلیک کرده اند یا خیر را حذف می کنیم (که این سطر همان سطر هایی اند که سلول مربوط به ستون پیش بینی آن ها خالی است)و سپس آن را در فایلی میریزیم . سپس برای مشاهده نتیجه کار اطلاعات فایل جدیدی را که ساخته ایم می خوانیم و آن را در یک دیتافریم جدید میریزیم و برای مشاهده نتیجه بیست های اول آن را چاپ می کنیم. همان طور که میبینیم ستون پیش بینی برای آن ها پر شده و اندیس آن ها نیز مشخص شده است  "
   ]
  },
  {
   "cell_type": "code",
   "execution_count": 38,
   "metadata": {
    "scrolled": true
   },
   "outputs": [
    {
     "data": {
      "text/html": [
       "<div>\n",
       "<style scoped>\n",
       "    .dataframe tbody tr th:only-of-type {\n",
       "        vertical-align: middle;\n",
       "    }\n",
       "\n",
       "    .dataframe tbody tr th {\n",
       "        vertical-align: top;\n",
       "    }\n",
       "\n",
       "    .dataframe thead th {\n",
       "        text-align: right;\n",
       "    }\n",
       "</style>\n",
       "<table border=\"1\" class=\"dataframe\">\n",
       "  <thead>\n",
       "    <tr style=\"text-align: right;\">\n",
       "      <th></th>\n",
       "      <th>Unnamed: 0</th>\n",
       "      <th>predict</th>\n",
       "    </tr>\n",
       "  </thead>\n",
       "  <tbody>\n",
       "    <tr>\n",
       "      <th>0</th>\n",
       "      <td>10</td>\n",
       "      <td>clicked</td>\n",
       "    </tr>\n",
       "    <tr>\n",
       "      <th>1</th>\n",
       "      <td>14</td>\n",
       "      <td>clicked</td>\n",
       "    </tr>\n",
       "    <tr>\n",
       "      <th>2</th>\n",
       "      <td>15</td>\n",
       "      <td>clicked</td>\n",
       "    </tr>\n",
       "    <tr>\n",
       "      <th>3</th>\n",
       "      <td>20</td>\n",
       "      <td>not clicked</td>\n",
       "    </tr>\n",
       "    <tr>\n",
       "      <th>4</th>\n",
       "      <td>24</td>\n",
       "      <td>clicked</td>\n",
       "    </tr>\n",
       "    <tr>\n",
       "      <th>5</th>\n",
       "      <td>33</td>\n",
       "      <td>not clicked</td>\n",
       "    </tr>\n",
       "    <tr>\n",
       "      <th>6</th>\n",
       "      <td>40</td>\n",
       "      <td>not clicked</td>\n",
       "    </tr>\n",
       "    <tr>\n",
       "      <th>7</th>\n",
       "      <td>44</td>\n",
       "      <td>not clicked</td>\n",
       "    </tr>\n",
       "    <tr>\n",
       "      <th>8</th>\n",
       "      <td>46</td>\n",
       "      <td>not clicked</td>\n",
       "    </tr>\n",
       "    <tr>\n",
       "      <th>9</th>\n",
       "      <td>70</td>\n",
       "      <td>clicked</td>\n",
       "    </tr>\n",
       "    <tr>\n",
       "      <th>10</th>\n",
       "      <td>72</td>\n",
       "      <td>clicked</td>\n",
       "    </tr>\n",
       "    <tr>\n",
       "      <th>11</th>\n",
       "      <td>73</td>\n",
       "      <td>clicked</td>\n",
       "    </tr>\n",
       "    <tr>\n",
       "      <th>12</th>\n",
       "      <td>81</td>\n",
       "      <td>not clicked</td>\n",
       "    </tr>\n",
       "    <tr>\n",
       "      <th>13</th>\n",
       "      <td>98</td>\n",
       "      <td>not clicked</td>\n",
       "    </tr>\n",
       "    <tr>\n",
       "      <th>14</th>\n",
       "      <td>117</td>\n",
       "      <td>clicked</td>\n",
       "    </tr>\n",
       "    <tr>\n",
       "      <th>15</th>\n",
       "      <td>119</td>\n",
       "      <td>clicked</td>\n",
       "    </tr>\n",
       "    <tr>\n",
       "      <th>16</th>\n",
       "      <td>122</td>\n",
       "      <td>not clicked</td>\n",
       "    </tr>\n",
       "    <tr>\n",
       "      <th>17</th>\n",
       "      <td>131</td>\n",
       "      <td>clicked</td>\n",
       "    </tr>\n",
       "    <tr>\n",
       "      <th>18</th>\n",
       "      <td>132</td>\n",
       "      <td>clicked</td>\n",
       "    </tr>\n",
       "    <tr>\n",
       "      <th>19</th>\n",
       "      <td>143</td>\n",
       "      <td>not clicked</td>\n",
       "    </tr>\n",
       "  </tbody>\n",
       "</table>\n",
       "</div>"
      ],
      "text/plain": [
       "    Unnamed: 0      predict\n",
       "0           10      clicked\n",
       "1           14      clicked\n",
       "2           15      clicked\n",
       "3           20  not clicked\n",
       "4           24      clicked\n",
       "5           33  not clicked\n",
       "6           40  not clicked\n",
       "7           44  not clicked\n",
       "8           46  not clicked\n",
       "9           70      clicked\n",
       "10          72      clicked\n",
       "11          73      clicked\n",
       "12          81  not clicked\n",
       "13          98  not clicked\n",
       "14         117      clicked\n",
       "15         119      clicked\n",
       "16         122  not clicked\n",
       "17         131      clicked\n",
       "18         132      clicked\n",
       "19         143  not clicked"
      ]
     },
     "execution_count": 38,
     "metadata": {},
     "output_type": "execute_result"
    }
   ],
   "source": [
    "data.drop(columns=['Unnamed: 0','Daily Time Spent on Site','Age','Area Income','Daily Internet Usage','Ad Topic Line','City','Gender','Country','Timestamp','Clicked on Ad'], axis=1, inplace=True)\n",
    "data.dropna(subset=['predict']).to_csv('result.csv')\n",
    "#data.dropna(subset=['predict']).to_csv('result.csv')\n",
    "df=pd.read_csv('result.csv')\n",
    "#df.drop(columns=['Unnamed: 0.1', 'Daily Time Spent on Site','Age','Area Income','Daily Internet Usage','Ad Topic Line','City','Gender','Country','Timestamp','Clicked on Ad'], axis=1, inplace=True)\n",
    "df.head(20)\n",
    "#df.shape[0] "
   ]
  },
  {
   "cell_type": "markdown",
   "metadata": {},
   "source": [
    "منابع:\n",
    "https://pbpython.com/categorical-encoding.html\n",
    "\n",
    "https://pandas.pydata.org/pandas-docs/stable/user_guide/missing_data.html\n",
    "\n",
    "https://stackoverflow.com/questions/26266362/how-to-count-the-nan-values-in-a-column-in-pandas-dataframe\n",
    "https://stackoverflow.com/questions/18689823/pandas-dataframe-replace-nan-values-with-average-of-columns\n",
    "https://stackoverflow.com/questions/31888871/pandas-replacing-column-values\n",
    "https://www.geeksforgeeks.org/replacing-strings-with-numbers-in-python-for-data-analysis/\n",
    "https://stackoverflow.com/questions/42081790/pandas-dataframe-listing-amount-of-people-per-gender-in-each-major\n",
    "https://stackoverflow.com/questions/48466139/i-have-a-code-here-i-want-to-find-the-total-number-of-females-and-males-in-a-ce/48466491\n",
    "https://www.geeksforgeeks.org/python-filtering-data-with-pandas-query-method/\n",
    "https://stackoverflow.com/questions/11869910/pandas-filter-rows-of-dataframe-with-operator-chaining\n",
    "https://www.ritchieng.com/pandas-multi-criteria-filtering/\n",
    "https://www.nbshare.io/notebook/204214467/How-to-Plot-a-Histogram-in-Python/\n",
    "https://datatofish.com/if-condition-in-pandas-dataframe/\n",
    "https://www.geeksforgeeks.org/saving-a-pandas-dataframe-as-a-csv/\n",
    "https://stackoverflow.com/questions/13411544/delete-column-from-pandas-dataframe\n",
    "https://stackoverflow.com/questions/15943769/how-do-i-get-the-row-count-of-a-pandas-dataframe\n",
    "https://pythonprogramming.net/legends-titles-labels-matplotlib-tutorial/"
   ]
  },
  {
   "cell_type": "code",
   "execution_count": null,
   "metadata": {},
   "outputs": [],
   "source": []
  },
  {
   "cell_type": "code",
   "execution_count": null,
   "metadata": {},
   "outputs": [],
   "source": []
  }
 ],
 "metadata": {
  "celltoolbar": "Raw Cell Format",
  "kernelspec": {
   "display_name": "Python 3",
   "language": "python",
   "name": "python3"
  },
  "language_info": {
   "codemirror_mode": {
    "name": "ipython",
    "version": 3
   },
   "file_extension": ".py",
   "mimetype": "text/x-python",
   "name": "python",
   "nbconvert_exporter": "python",
   "pygments_lexer": "ipython3",
   "version": "3.8.3"
  }
 },
 "nbformat": 4,
 "nbformat_minor": 4
}
